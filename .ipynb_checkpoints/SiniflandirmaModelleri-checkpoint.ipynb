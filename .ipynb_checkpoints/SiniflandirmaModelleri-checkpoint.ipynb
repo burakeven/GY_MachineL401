{
 "cells": [
  {
   "cell_type": "code",
   "execution_count": 1,
   "id": "8a068e7f-906d-4091-b8b1-d3de7e51332b",
   "metadata": {},
   "outputs": [],
   "source": [
    "import numpy as np\n",
    "import pandas as pd\n",
    "import statsmodels.api as sm\n",
    "import seaborn as sns\n",
    "import matplotlib.pyplot as plt\n",
    "from sklearn.preprocessing import scale, StandardScaler\n",
    "from sklearn.model_selection import train_test_split, GridSearchCV, cross_val_score\n",
    "from sklearn.metrics import confusion_matrix, accuracy_score, mean_squared_error, r2_score, roc_auc_score, roc_curve, classification_report\n",
    "from sklearn.linear_model import LogisticRegression\n",
    "from sklearn.neighbors import KNeighborsClassifier\n",
    "from sklearn.svm import SVC\n",
    "from sklearn.neural_network import MLPClassifier\n",
    "from sklearn.tree import DecisionTreeClassifier\n",
    "from sklearn.ensemble import RandomForestClassifier\n",
    "from sklearn.ensemble import GradientBoostingClassifier"
   ]
  },
  {
   "cell_type": "code",
   "execution_count": 2,
   "id": "5af00533-86f0-4d71-9af0-cc8454396341",
   "metadata": {},
   "outputs": [],
   "source": [
    "import warnings\n",
    "warnings.filterwarnings(\"ignore\", category = DeprecationWarning)\n",
    "warnings.filterwarnings(\"ignore\", category=FutureWarning)"
   ]
  },
  {
   "cell_type": "markdown",
   "id": "7fce1bd3-152c-4a1f-a5e2-47c97d50c32b",
   "metadata": {},
   "source": [
    "## Veri Seti hikayesi ve Problem: Seker Hastaligi Tahmini"
   ]
  },
  {
   "cell_type": "code",
   "execution_count": 3,
   "id": "c408af5e-7e13-4583-8e56-64647b19bf74",
   "metadata": {},
   "outputs": [],
   "source": [
    "df = pd.read_csv(\"./diabetes.csv\")"
   ]
  },
  {
   "cell_type": "code",
   "execution_count": 4,
   "id": "f3850edd-99bf-4e69-882a-fc4976f48887",
   "metadata": {},
   "outputs": [
    {
     "data": {
      "text/html": [
       "<div>\n",
       "<style scoped>\n",
       "    .dataframe tbody tr th:only-of-type {\n",
       "        vertical-align: middle;\n",
       "    }\n",
       "\n",
       "    .dataframe tbody tr th {\n",
       "        vertical-align: top;\n",
       "    }\n",
       "\n",
       "    .dataframe thead th {\n",
       "        text-align: right;\n",
       "    }\n",
       "</style>\n",
       "<table border=\"1\" class=\"dataframe\">\n",
       "  <thead>\n",
       "    <tr style=\"text-align: right;\">\n",
       "      <th></th>\n",
       "      <th>Pregnancies</th>\n",
       "      <th>Glucose</th>\n",
       "      <th>BloodPressure</th>\n",
       "      <th>SkinThickness</th>\n",
       "      <th>Insulin</th>\n",
       "      <th>BMI</th>\n",
       "      <th>DiabetesPedigreeFunction</th>\n",
       "      <th>Age</th>\n",
       "      <th>Outcome</th>\n",
       "    </tr>\n",
       "  </thead>\n",
       "  <tbody>\n",
       "    <tr>\n",
       "      <th>0</th>\n",
       "      <td>6</td>\n",
       "      <td>148</td>\n",
       "      <td>72</td>\n",
       "      <td>35</td>\n",
       "      <td>0</td>\n",
       "      <td>33.6</td>\n",
       "      <td>0.627</td>\n",
       "      <td>50</td>\n",
       "      <td>1</td>\n",
       "    </tr>\n",
       "    <tr>\n",
       "      <th>1</th>\n",
       "      <td>1</td>\n",
       "      <td>85</td>\n",
       "      <td>66</td>\n",
       "      <td>29</td>\n",
       "      <td>0</td>\n",
       "      <td>26.6</td>\n",
       "      <td>0.351</td>\n",
       "      <td>31</td>\n",
       "      <td>0</td>\n",
       "    </tr>\n",
       "    <tr>\n",
       "      <th>2</th>\n",
       "      <td>8</td>\n",
       "      <td>183</td>\n",
       "      <td>64</td>\n",
       "      <td>0</td>\n",
       "      <td>0</td>\n",
       "      <td>23.3</td>\n",
       "      <td>0.672</td>\n",
       "      <td>32</td>\n",
       "      <td>1</td>\n",
       "    </tr>\n",
       "    <tr>\n",
       "      <th>3</th>\n",
       "      <td>1</td>\n",
       "      <td>89</td>\n",
       "      <td>66</td>\n",
       "      <td>23</td>\n",
       "      <td>94</td>\n",
       "      <td>28.1</td>\n",
       "      <td>0.167</td>\n",
       "      <td>21</td>\n",
       "      <td>0</td>\n",
       "    </tr>\n",
       "    <tr>\n",
       "      <th>4</th>\n",
       "      <td>0</td>\n",
       "      <td>137</td>\n",
       "      <td>40</td>\n",
       "      <td>35</td>\n",
       "      <td>168</td>\n",
       "      <td>43.1</td>\n",
       "      <td>2.288</td>\n",
       "      <td>33</td>\n",
       "      <td>1</td>\n",
       "    </tr>\n",
       "  </tbody>\n",
       "</table>\n",
       "</div>"
      ],
      "text/plain": [
       "   Pregnancies  Glucose  BloodPressure  SkinThickness  Insulin   BMI  \\\n",
       "0            6      148             72             35        0  33.6   \n",
       "1            1       85             66             29        0  26.6   \n",
       "2            8      183             64              0        0  23.3   \n",
       "3            1       89             66             23       94  28.1   \n",
       "4            0      137             40             35      168  43.1   \n",
       "\n",
       "   DiabetesPedigreeFunction  Age  Outcome  \n",
       "0                     0.627   50        1  \n",
       "1                     0.351   31        0  \n",
       "2                     0.672   32        1  \n",
       "3                     0.167   21        0  \n",
       "4                     2.288   33        1  "
      ]
     },
     "execution_count": 4,
     "metadata": {},
     "output_type": "execute_result"
    }
   ],
   "source": [
    "df.head()"
   ]
  },
  {
   "cell_type": "markdown",
   "id": "c6e13271-4f2f-4c17-a445-e8e3f106bc5b",
   "metadata": {},
   "source": [
    "# Lojistik Regresyon(Logistic Regression)"
   ]
  },
  {
   "cell_type": "markdown",
   "id": "9a3b45eb-1886-464f-8796-108cb45aae6e",
   "metadata": {},
   "source": [
    "### Model&Tahmin"
   ]
  },
  {
   "cell_type": "code",
   "execution_count": 7,
   "id": "1073d76a-f1b8-4fff-922a-385a561ee4d4",
   "metadata": {},
   "outputs": [
    {
     "data": {
      "text/plain": [
       "0    500\n",
       "1    268\n",
       "Name: Outcome, dtype: int64"
      ]
     },
     "execution_count": 7,
     "metadata": {},
     "output_type": "execute_result"
    }
   ],
   "source": [
    "df[\"Outcome\"].value_counts()"
   ]
  },
  {
   "cell_type": "code",
   "execution_count": 8,
   "id": "43f0dd64-3017-4c35-b203-a9594e31c436",
   "metadata": {},
   "outputs": [
    {
     "data": {
      "text/html": [
       "<div>\n",
       "<style scoped>\n",
       "    .dataframe tbody tr th:only-of-type {\n",
       "        vertical-align: middle;\n",
       "    }\n",
       "\n",
       "    .dataframe tbody tr th {\n",
       "        vertical-align: top;\n",
       "    }\n",
       "\n",
       "    .dataframe thead th {\n",
       "        text-align: right;\n",
       "    }\n",
       "</style>\n",
       "<table border=\"1\" class=\"dataframe\">\n",
       "  <thead>\n",
       "    <tr style=\"text-align: right;\">\n",
       "      <th></th>\n",
       "      <th>count</th>\n",
       "      <th>mean</th>\n",
       "      <th>std</th>\n",
       "      <th>min</th>\n",
       "      <th>25%</th>\n",
       "      <th>50%</th>\n",
       "      <th>75%</th>\n",
       "      <th>max</th>\n",
       "    </tr>\n",
       "  </thead>\n",
       "  <tbody>\n",
       "    <tr>\n",
       "      <th>Pregnancies</th>\n",
       "      <td>768.0</td>\n",
       "      <td>3.845052</td>\n",
       "      <td>3.369578</td>\n",
       "      <td>0.000</td>\n",
       "      <td>1.00000</td>\n",
       "      <td>3.0000</td>\n",
       "      <td>6.00000</td>\n",
       "      <td>17.00</td>\n",
       "    </tr>\n",
       "    <tr>\n",
       "      <th>Glucose</th>\n",
       "      <td>768.0</td>\n",
       "      <td>120.894531</td>\n",
       "      <td>31.972618</td>\n",
       "      <td>0.000</td>\n",
       "      <td>99.00000</td>\n",
       "      <td>117.0000</td>\n",
       "      <td>140.25000</td>\n",
       "      <td>199.00</td>\n",
       "    </tr>\n",
       "    <tr>\n",
       "      <th>BloodPressure</th>\n",
       "      <td>768.0</td>\n",
       "      <td>69.105469</td>\n",
       "      <td>19.355807</td>\n",
       "      <td>0.000</td>\n",
       "      <td>62.00000</td>\n",
       "      <td>72.0000</td>\n",
       "      <td>80.00000</td>\n",
       "      <td>122.00</td>\n",
       "    </tr>\n",
       "    <tr>\n",
       "      <th>SkinThickness</th>\n",
       "      <td>768.0</td>\n",
       "      <td>20.536458</td>\n",
       "      <td>15.952218</td>\n",
       "      <td>0.000</td>\n",
       "      <td>0.00000</td>\n",
       "      <td>23.0000</td>\n",
       "      <td>32.00000</td>\n",
       "      <td>99.00</td>\n",
       "    </tr>\n",
       "    <tr>\n",
       "      <th>Insulin</th>\n",
       "      <td>768.0</td>\n",
       "      <td>79.799479</td>\n",
       "      <td>115.244002</td>\n",
       "      <td>0.000</td>\n",
       "      <td>0.00000</td>\n",
       "      <td>30.5000</td>\n",
       "      <td>127.25000</td>\n",
       "      <td>846.00</td>\n",
       "    </tr>\n",
       "    <tr>\n",
       "      <th>BMI</th>\n",
       "      <td>768.0</td>\n",
       "      <td>31.992578</td>\n",
       "      <td>7.884160</td>\n",
       "      <td>0.000</td>\n",
       "      <td>27.30000</td>\n",
       "      <td>32.0000</td>\n",
       "      <td>36.60000</td>\n",
       "      <td>67.10</td>\n",
       "    </tr>\n",
       "    <tr>\n",
       "      <th>DiabetesPedigreeFunction</th>\n",
       "      <td>768.0</td>\n",
       "      <td>0.471876</td>\n",
       "      <td>0.331329</td>\n",
       "      <td>0.078</td>\n",
       "      <td>0.24375</td>\n",
       "      <td>0.3725</td>\n",
       "      <td>0.62625</td>\n",
       "      <td>2.42</td>\n",
       "    </tr>\n",
       "    <tr>\n",
       "      <th>Age</th>\n",
       "      <td>768.0</td>\n",
       "      <td>33.240885</td>\n",
       "      <td>11.760232</td>\n",
       "      <td>21.000</td>\n",
       "      <td>24.00000</td>\n",
       "      <td>29.0000</td>\n",
       "      <td>41.00000</td>\n",
       "      <td>81.00</td>\n",
       "    </tr>\n",
       "    <tr>\n",
       "      <th>Outcome</th>\n",
       "      <td>768.0</td>\n",
       "      <td>0.348958</td>\n",
       "      <td>0.476951</td>\n",
       "      <td>0.000</td>\n",
       "      <td>0.00000</td>\n",
       "      <td>0.0000</td>\n",
       "      <td>1.00000</td>\n",
       "      <td>1.00</td>\n",
       "    </tr>\n",
       "  </tbody>\n",
       "</table>\n",
       "</div>"
      ],
      "text/plain": [
       "                          count        mean         std     min       25%  \\\n",
       "Pregnancies               768.0    3.845052    3.369578   0.000   1.00000   \n",
       "Glucose                   768.0  120.894531   31.972618   0.000  99.00000   \n",
       "BloodPressure             768.0   69.105469   19.355807   0.000  62.00000   \n",
       "SkinThickness             768.0   20.536458   15.952218   0.000   0.00000   \n",
       "Insulin                   768.0   79.799479  115.244002   0.000   0.00000   \n",
       "BMI                       768.0   31.992578    7.884160   0.000  27.30000   \n",
       "DiabetesPedigreeFunction  768.0    0.471876    0.331329   0.078   0.24375   \n",
       "Age                       768.0   33.240885   11.760232  21.000  24.00000   \n",
       "Outcome                   768.0    0.348958    0.476951   0.000   0.00000   \n",
       "\n",
       "                               50%        75%     max  \n",
       "Pregnancies                 3.0000    6.00000   17.00  \n",
       "Glucose                   117.0000  140.25000  199.00  \n",
       "BloodPressure              72.0000   80.00000  122.00  \n",
       "SkinThickness              23.0000   32.00000   99.00  \n",
       "Insulin                    30.5000  127.25000  846.00  \n",
       "BMI                        32.0000   36.60000   67.10  \n",
       "DiabetesPedigreeFunction    0.3725    0.62625    2.42  \n",
       "Age                        29.0000   41.00000   81.00  \n",
       "Outcome                     0.0000    1.00000    1.00  "
      ]
     },
     "execution_count": 8,
     "metadata": {},
     "output_type": "execute_result"
    }
   ],
   "source": [
    "df.describe().T"
   ]
  },
  {
   "cell_type": "code",
   "execution_count": 9,
   "id": "2ec56f82-c871-4593-bcbd-ab59f682a88d",
   "metadata": {},
   "outputs": [],
   "source": [
    "y = df[\"Outcome\"] #bu bizim bagimli degiskenimiz.\n",
    "X = df.drop([\"Outcome\"],axis=1)\n"
   ]
  },
  {
   "cell_type": "code",
   "execution_count": 10,
   "id": "7ffa1b01-ed3a-41d3-858b-3be4b2af2e73",
   "metadata": {},
   "outputs": [
    {
     "data": {
      "text/plain": [
       "0    1\n",
       "1    0\n",
       "2    1\n",
       "3    0\n",
       "4    1\n",
       "Name: Outcome, dtype: int64"
      ]
     },
     "execution_count": 10,
     "metadata": {},
     "output_type": "execute_result"
    }
   ],
   "source": [
    "y.head()"
   ]
  },
  {
   "cell_type": "code",
   "execution_count": 11,
   "id": "25db8f42-0a5e-47a3-a7ce-6902ab041ed7",
   "metadata": {},
   "outputs": [
    {
     "data": {
      "text/html": [
       "<div>\n",
       "<style scoped>\n",
       "    .dataframe tbody tr th:only-of-type {\n",
       "        vertical-align: middle;\n",
       "    }\n",
       "\n",
       "    .dataframe tbody tr th {\n",
       "        vertical-align: top;\n",
       "    }\n",
       "\n",
       "    .dataframe thead th {\n",
       "        text-align: right;\n",
       "    }\n",
       "</style>\n",
       "<table border=\"1\" class=\"dataframe\">\n",
       "  <thead>\n",
       "    <tr style=\"text-align: right;\">\n",
       "      <th></th>\n",
       "      <th>Pregnancies</th>\n",
       "      <th>Glucose</th>\n",
       "      <th>BloodPressure</th>\n",
       "      <th>SkinThickness</th>\n",
       "      <th>Insulin</th>\n",
       "      <th>BMI</th>\n",
       "      <th>DiabetesPedigreeFunction</th>\n",
       "      <th>Age</th>\n",
       "    </tr>\n",
       "  </thead>\n",
       "  <tbody>\n",
       "    <tr>\n",
       "      <th>0</th>\n",
       "      <td>6</td>\n",
       "      <td>148</td>\n",
       "      <td>72</td>\n",
       "      <td>35</td>\n",
       "      <td>0</td>\n",
       "      <td>33.6</td>\n",
       "      <td>0.627</td>\n",
       "      <td>50</td>\n",
       "    </tr>\n",
       "    <tr>\n",
       "      <th>1</th>\n",
       "      <td>1</td>\n",
       "      <td>85</td>\n",
       "      <td>66</td>\n",
       "      <td>29</td>\n",
       "      <td>0</td>\n",
       "      <td>26.6</td>\n",
       "      <td>0.351</td>\n",
       "      <td>31</td>\n",
       "    </tr>\n",
       "    <tr>\n",
       "      <th>2</th>\n",
       "      <td>8</td>\n",
       "      <td>183</td>\n",
       "      <td>64</td>\n",
       "      <td>0</td>\n",
       "      <td>0</td>\n",
       "      <td>23.3</td>\n",
       "      <td>0.672</td>\n",
       "      <td>32</td>\n",
       "    </tr>\n",
       "    <tr>\n",
       "      <th>3</th>\n",
       "      <td>1</td>\n",
       "      <td>89</td>\n",
       "      <td>66</td>\n",
       "      <td>23</td>\n",
       "      <td>94</td>\n",
       "      <td>28.1</td>\n",
       "      <td>0.167</td>\n",
       "      <td>21</td>\n",
       "    </tr>\n",
       "    <tr>\n",
       "      <th>4</th>\n",
       "      <td>0</td>\n",
       "      <td>137</td>\n",
       "      <td>40</td>\n",
       "      <td>35</td>\n",
       "      <td>168</td>\n",
       "      <td>43.1</td>\n",
       "      <td>2.288</td>\n",
       "      <td>33</td>\n",
       "    </tr>\n",
       "  </tbody>\n",
       "</table>\n",
       "</div>"
      ],
      "text/plain": [
       "   Pregnancies  Glucose  BloodPressure  SkinThickness  Insulin   BMI  \\\n",
       "0            6      148             72             35        0  33.6   \n",
       "1            1       85             66             29        0  26.6   \n",
       "2            8      183             64              0        0  23.3   \n",
       "3            1       89             66             23       94  28.1   \n",
       "4            0      137             40             35      168  43.1   \n",
       "\n",
       "   DiabetesPedigreeFunction  Age  \n",
       "0                     0.627   50  \n",
       "1                     0.351   31  \n",
       "2                     0.672   32  \n",
       "3                     0.167   21  \n",
       "4                     2.288   33  "
      ]
     },
     "execution_count": 11,
     "metadata": {},
     "output_type": "execute_result"
    }
   ],
   "source": [
    "X.head()"
   ]
  },
  {
   "cell_type": "code",
   "execution_count": 12,
   "id": "74f808ac-922a-4eb2-8d9d-d72f0a9e493d",
   "metadata": {},
   "outputs": [],
   "source": [
    "loj_model = LogisticRegression(solver = \"liblinear\").fit(X,y)"
   ]
  },
  {
   "cell_type": "code",
   "execution_count": 13,
   "id": "520fee5d-8b1d-468b-95be-694553b1886f",
   "metadata": {},
   "outputs": [
    {
     "data": {
      "text/plain": [
       "array([-5.87567981])"
      ]
     },
     "execution_count": 13,
     "metadata": {},
     "output_type": "execute_result"
    }
   ],
   "source": [
    "loj_model.intercept_"
   ]
  },
  {
   "cell_type": "code",
   "execution_count": 14,
   "id": "3c54e3ee-56f1-4cbe-8926-6b606575f3df",
   "metadata": {},
   "outputs": [
    {
     "data": {
      "text/plain": [
       "array([[ 1.17026040e-01,  2.83447017e-02, -1.69142223e-02,\n",
       "         7.58028032e-04, -6.38933355e-04,  5.95883532e-02,\n",
       "         6.74657098e-01,  7.19078501e-03]])"
      ]
     },
     "execution_count": 14,
     "metadata": {},
     "output_type": "execute_result"
    }
   ],
   "source": [
    "loj_model.coef_"
   ]
  },
  {
   "cell_type": "code",
   "execution_count": 15,
   "id": "795ebda0-257c-44fb-be49-33f6a763fa69",
   "metadata": {},
   "outputs": [
    {
     "data": {
      "text/plain": [
       "array([1, 0, 1, 0, 1, 0, 0, 1, 1, 0], dtype=int64)"
      ]
     },
     "execution_count": 15,
     "metadata": {},
     "output_type": "execute_result"
    }
   ],
   "source": [
    "loj_model.predict(X)[0:10]"
   ]
  },
  {
   "cell_type": "code",
   "execution_count": 16,
   "id": "c0a26a55-0d19-4de8-a56c-fc5dd9113377",
   "metadata": {},
   "outputs": [
    {
     "data": {
      "text/plain": [
       "0    1\n",
       "1    0\n",
       "2    1\n",
       "3    0\n",
       "4    1\n",
       "5    0\n",
       "6    1\n",
       "7    0\n",
       "8    1\n",
       "9    1\n",
       "Name: Outcome, dtype: int64"
      ]
     },
     "execution_count": 16,
     "metadata": {},
     "output_type": "execute_result"
    }
   ],
   "source": [
    "y[0:10]"
   ]
  },
  {
   "cell_type": "code",
   "execution_count": 17,
   "id": "2c25aff3-5fbc-4fe3-8bfa-be00d6fe303c",
   "metadata": {},
   "outputs": [],
   "source": [
    "y_pred = loj_model.predict(X)"
   ]
  },
  {
   "cell_type": "code",
   "execution_count": 19,
   "id": "b9d7d140-7d7f-4dd2-be17-8ff5b108ec61",
   "metadata": {},
   "outputs": [
    {
     "data": {
      "text/plain": [
       "array([[448,  52],\n",
       "       [121, 147]], dtype=int64)"
      ]
     },
     "execution_count": 19,
     "metadata": {},
     "output_type": "execute_result"
    }
   ],
   "source": [
    "confusion_matrix(y,y_pred)"
   ]
  },
  {
   "cell_type": "code",
   "execution_count": 21,
   "id": "6c83afba-1041-4dd2-b45a-cf72015d61ef",
   "metadata": {},
   "outputs": [
    {
     "data": {
      "text/plain": [
       "0.7747395833333334"
      ]
     },
     "execution_count": 21,
     "metadata": {},
     "output_type": "execute_result"
    }
   ],
   "source": [
    "accuracy_score(y,y_pred)"
   ]
  },
  {
   "cell_type": "code",
   "execution_count": 22,
   "id": "0f5b6aba-1ea4-4c62-b9a6-8350d831e019",
   "metadata": {},
   "outputs": [
    {
     "name": "stdout",
     "output_type": "stream",
     "text": [
      "              precision    recall  f1-score   support\n",
      "\n",
      "           0       0.79      0.90      0.84       500\n",
      "           1       0.74      0.55      0.63       268\n",
      "\n",
      "    accuracy                           0.77       768\n",
      "   macro avg       0.76      0.72      0.73       768\n",
      "weighted avg       0.77      0.77      0.77       768\n",
      "\n"
     ]
    }
   ],
   "source": [
    "print(classification_report(y,y_pred))"
   ]
  },
  {
   "cell_type": "code",
   "execution_count": 23,
   "id": "8a7abfb2-dbb8-4988-bf02-9e3ed89c9b9b",
   "metadata": {},
   "outputs": [
    {
     "data": {
      "text/plain": [
       "array([[0.35093834, 0.64906166],\n",
       "       [0.9167465 , 0.0832535 ],\n",
       "       [0.22496175, 0.77503825],\n",
       "       [0.92105964, 0.07894036],\n",
       "       [0.16807458, 0.83192542],\n",
       "       [0.79857716, 0.20142284],\n",
       "       [0.87973055, 0.12026945],\n",
       "       [0.27755404, 0.72244596],\n",
       "       [0.32068936, 0.67931064],\n",
       "       [0.9223939 , 0.0776061 ]])"
      ]
     },
     "execution_count": 23,
     "metadata": {},
     "output_type": "execute_result"
    }
   ],
   "source": [
    "loj_model.predict_proba(X)[0:10]"
   ]
  },
  {
   "cell_type": "code",
   "execution_count": 27,
   "id": "9768d7f0-0521-4686-86ec-a9d06990fee0",
   "metadata": {},
   "outputs": [
    {
     "data": {
      "image/png": "[encoded data removed]",
      "text/plain": [
       "<Figure size 432x288 with 1 Axes>"
      ]
     },
     "metadata": {
      "needs_background": "light"
     },
     "output_type": "display_data"
    }
   ],
   "source": [
    "logit_roc_auc = roc_auc_score(y, loj_model.predict(X))\n",
    "fpr, tpr, thresholds = roc_curve(y,loj_model.predict_proba(X)[:,1])\n",
    "plt.figure()\n",
    "plt.plot(fpr,tpr,label='AUC (area=%0.2f)' % logit_roc_auc)\n",
    "plt.plot([0,1],[0,1],'r--')\n",
    "plt.xlim([0.0,1.0])\n",
    "plt.ylim([0.0, 1.05])\n",
    "plt.xlabel('False Positive Rate')\n",
    "plt.ylabel('True Positive Rate')\n",
    "plt.title('Receiver operating caharacteristic')\n",
    "plt.legend(loc=\"lower right\")\n",
    "plt.savefig('Log_ROC')\n",
    "plt.show()"
   ]
  },
  {
   "cell_type": "markdown",
   "id": "5088b106-0eb4-40c3-99a3-43f1e7e931e8",
   "metadata": {},
   "source": [
    "### Model Tuning"
   ]
  },
  {
   "cell_type": "code",
   "execution_count": 4,
   "id": "8da270b3-73e1-4eec-a289-edfd97368209",
   "metadata": {},
   "outputs": [
    {
     "ename": "NameError",
     "evalue": "name 'X' is not defined",
     "output_type": "error",
     "traceback": [
      "\u001b[1;31m---------------------------------------------------------------------------\u001b[0m",
      "\u001b[1;31mNameError\u001b[0m                                 Traceback (most recent call last)",
      "\u001b[1;32m<ipython-input-4-65878ef5e717>\u001b[0m in \u001b[0;36m<module>\u001b[1;34m\u001b[0m\n\u001b[1;32m----> 1\u001b[1;33m X_train, X_test, y_train, y_test = train_test_split(X,\n\u001b[0m\u001b[0;32m      2\u001b[0m                                                    \u001b[0my\u001b[0m\u001b[1;33m,\u001b[0m\u001b[1;33m\u001b[0m\u001b[1;33m\u001b[0m\u001b[0m\n\u001b[0;32m      3\u001b[0m                                                    \u001b[0mtest_size\u001b[0m\u001b[1;33m=\u001b[0m\u001b[1;36m0.30\u001b[0m\u001b[1;33m,\u001b[0m\u001b[1;33m\u001b[0m\u001b[1;33m\u001b[0m\u001b[0m\n\u001b[0;32m      4\u001b[0m                                                    random_state=42)\n",
      "\u001b[1;31mNameError\u001b[0m: name 'X' is not defined"
     ]
    }
   ],
   "source": [
    "X_train, X_test, y_train, y_test = train_test_split(X,\n",
    "                                                   y,\n",
    "                                                   test_size=0.30,\n",
    "                                                   random_state=42)"
   ]
  },
  {
   "cell_type": "code",
   "execution_count": 29,
   "id": "f1a0349e-2b9d-4ce3-b52a-506cf980454e",
   "metadata": {},
   "outputs": [],
   "source": [
    "loj_model = LogisticRegression(solver = \"liblinear\").fit(X_train,y_train)"
   ]
  },
  {
   "cell_type": "code",
   "execution_count": 30,
   "id": "8e01c8da-4e2a-4472-b8d2-22e09d844297",
   "metadata": {},
   "outputs": [],
   "source": [
    "y_pred = loj_model.predict(X_test)"
   ]
  },
  {
   "cell_type": "code",
   "execution_count": 31,
   "id": "d3180b2e-9b26-40b3-b06e-c4beae918133",
   "metadata": {},
   "outputs": [
    {
     "name": "stdout",
     "output_type": "stream",
     "text": [
      "0.7532467532467533\n"
     ]
    }
   ],
   "source": [
    "print(accuracy_score(y_test,y_pred)) #bu bizim test seti hatamiz, train icin gerceklestirmedik."
   ]
  },
  {
   "cell_type": "code",
   "execution_count": 36,
   "id": "4510c204-e16c-4b00-9822-4949c3eee525",
   "metadata": {},
   "outputs": [
    {
     "data": {
      "text/plain": [
       "0.7661231884057971"
      ]
     },
     "execution_count": 36,
     "metadata": {},
     "output_type": "execute_result"
    }
   ],
   "source": [
    "cross_val_score(loj_model, X_test, y_test, cv=10).mean()"
   ]
  },
  {
   "cell_type": "markdown",
   "id": "e2175280-abea-472e-b5e5-10b33f57848a",
   "metadata": {},
   "source": [
    "# K-En yakin Komsu"
   ]
  },
  {
   "cell_type": "code",
   "execution_count": 4,
   "id": "be243381-8405-4d81-8281-d3c569b6685d",
   "metadata": {},
   "outputs": [],
   "source": [
    "y = df[\"Outcome\"] #bu bizim bagimli degiskenimiz.\n",
    "X = df.drop([\"Outcome\"],axis=1)\n",
    "X_train, X_test, y_train, y_test = train_test_split(X,\n",
    "                                                   y,\n",
    "                                                   test_size=0.30,\n",
    "                                                   random_state=42)"
   ]
  },
  {
   "cell_type": "markdown",
   "id": "e6de5531-367b-4293-9630-c017ecb96ec0",
   "metadata": {},
   "source": [
    "### Model&Tahmin"
   ]
  },
  {
   "cell_type": "code",
   "execution_count": 7,
   "id": "5150cbf1-7924-4bc7-ad01-e81bd267c969",
   "metadata": {},
   "outputs": [],
   "source": [
    "knn_model = KNeighborsClassifier().fit(X_train, y_train)"
   ]
  },
  {
   "cell_type": "code",
   "execution_count": 8,
   "id": "2dd14700-8339-47df-894c-f6b9e5da2fea",
   "metadata": {},
   "outputs": [
    {
     "data": {
      "text/plain": [
       "KNeighborsClassifier()"
      ]
     },
     "execution_count": 8,
     "metadata": {},
     "output_type": "execute_result"
    }
   ],
   "source": [
    "knn_model"
   ]
  },
  {
   "cell_type": "code",
   "execution_count": 9,
   "id": "617fd3d7-3b43-45cd-8d98-702d6f0b8396",
   "metadata": {},
   "outputs": [],
   "source": [
    "y_pred = knn_model.predict(X_test)"
   ]
  },
  {
   "cell_type": "code",
   "execution_count": 10,
   "id": "e2d7803b-86b8-43b2-b7ba-34961f5d8d14",
   "metadata": {},
   "outputs": [
    {
     "data": {
      "text/plain": [
       "0.6883116883116883"
      ]
     },
     "execution_count": 10,
     "metadata": {},
     "output_type": "execute_result"
    }
   ],
   "source": [
    "accuracy_score(y_test, y_pred)"
   ]
  },
  {
   "cell_type": "code",
   "execution_count": 11,
   "id": "82339534-f081-4793-a703-869f4cbd1da0",
   "metadata": {},
   "outputs": [
    {
     "name": "stdout",
     "output_type": "stream",
     "text": [
      "              precision    recall  f1-score   support\n",
      "\n",
      "           0       0.77      0.75      0.76       151\n",
      "           1       0.55      0.56      0.56        80\n",
      "\n",
      "    accuracy                           0.69       231\n",
      "   macro avg       0.66      0.66      0.66       231\n",
      "weighted avg       0.69      0.69      0.69       231\n",
      "\n"
     ]
    }
   ],
   "source": [
    "print(classification_report(y_test,y_pred))"
   ]
  },
  {
   "cell_type": "markdown",
   "id": "60c7c7f7-10a5-4ebb-b34d-8442b989ffc4",
   "metadata": {},
   "source": [
    "### Model Tuning"
   ]
  },
  {
   "cell_type": "code",
   "execution_count": 12,
   "id": "1e52408d-fed4-47eb-8768-6538a1118d9f",
   "metadata": {},
   "outputs": [],
   "source": [
    "knn = KNeighborsClassifier()"
   ]
  },
  {
   "cell_type": "code",
   "execution_count": 16,
   "id": "40dbcefb-5fd2-444e-9d5c-8d2357306abc",
   "metadata": {},
   "outputs": [],
   "source": [
    "knn_params = {\"n_neighbors\": np.arange(1,50)}"
   ]
  },
  {
   "cell_type": "code",
   "execution_count": 17,
   "id": "f60a6250-0d47-484a-9b6a-51d6c4358cb0",
   "metadata": {},
   "outputs": [
    {
     "data": {
      "text/plain": [
       "array([ 1,  2,  3,  4,  5,  6,  7,  8,  9, 10, 11, 12, 13, 14, 15, 16, 17,\n",
       "       18, 19, 20, 21, 22, 23, 24, 25, 26, 27, 28, 29, 30, 31, 32, 33, 34,\n",
       "       35, 36, 37, 38, 39, 40, 41, 42, 43, 44, 45, 46, 47, 48, 49])"
      ]
     },
     "execution_count": 17,
     "metadata": {},
     "output_type": "execute_result"
    }
   ],
   "source": [
    "np.arange(1,50)"
   ]
  },
  {
   "cell_type": "code",
   "execution_count": 18,
   "id": "30e5495f-0a53-48ce-bdae-358bac83c65f",
   "metadata": {},
   "outputs": [],
   "source": [
    "knn_cv_model = GridSearchCV(knn, knn_params, cv=10).fit(X_train,y_train)"
   ]
  },
  {
   "cell_type": "code",
   "execution_count": 19,
   "id": "d85bd47f-f9b5-49e8-9a71-96c33ada2a9f",
   "metadata": {},
   "outputs": [
    {
     "data": {
      "text/plain": [
       "0.748637316561845"
      ]
     },
     "execution_count": 19,
     "metadata": {},
     "output_type": "execute_result"
    }
   ],
   "source": [
    "knn_cv_model.best_score_"
   ]
  },
  {
   "cell_type": "code",
   "execution_count": 20,
   "id": "648b57ae-051e-4619-a1e5-3b18be32d29c",
   "metadata": {},
   "outputs": [
    {
     "data": {
      "text/plain": [
       "{'n_neighbors': 11}"
      ]
     },
     "execution_count": 20,
     "metadata": {},
     "output_type": "execute_result"
    }
   ],
   "source": [
    "knn_cv_model.best_params_"
   ]
  },
  {
   "cell_type": "code",
   "execution_count": 21,
   "id": "a7eab1a5-8ca4-4b2c-ad76-6e888f0c8ce2",
   "metadata": {},
   "outputs": [],
   "source": [
    "#final modeli"
   ]
  },
  {
   "cell_type": "code",
   "execution_count": 22,
   "id": "42a2cac2-ef5b-4384-94e7-9ed387a2fa05",
   "metadata": {},
   "outputs": [],
   "source": [
    "knn_tuned = KNeighborsClassifier(n_neighbors=11).fit(X_train,y_train)"
   ]
  },
  {
   "cell_type": "code",
   "execution_count": 23,
   "id": "af55fc27-3d44-4cbd-9c5e-da3ce5da046e",
   "metadata": {},
   "outputs": [],
   "source": [
    "y_pred = knn_tuned.predict(X_test)"
   ]
  },
  {
   "cell_type": "code",
   "execution_count": 24,
   "id": "f77345d0-c169-48d0-b3b7-22618b383e6c",
   "metadata": {},
   "outputs": [
    {
     "data": {
      "text/plain": [
       "0.7316017316017316"
      ]
     },
     "execution_count": 24,
     "metadata": {},
     "output_type": "execute_result"
    }
   ],
   "source": [
    "accuracy_score(y_test,y_pred) #basari orani 68'den 73'e cikti, ilkel veriye gore daha basarili olundu."
   ]
  },
  {
   "cell_type": "code",
   "execution_count": 25,
   "id": "36703f6e-95ff-41af-8298-0a2dcb197dc7",
   "metadata": {},
   "outputs": [
    {
     "data": {
      "text/plain": [
       "0.7316017316017316"
      ]
     },
     "execution_count": 25,
     "metadata": {},
     "output_type": "execute_result"
    }
   ],
   "source": [
    "knn_tuned.score(X_test,y_test) #y_pred yapmak yerine score'u kullanarak sonuca ulasabiliriz, daha pratik kullanimidir."
   ]
  },
  {
   "cell_type": "markdown",
   "id": "b01bc591-561e-4b49-b63e-72ca6622f331",
   "metadata": {},
   "source": [
    "# Destek Vektor Makineleri(SVM)"
   ]
  },
  {
   "cell_type": "code",
   "execution_count": 5,
   "id": "f333c7a6-7bae-45c6-bd62-be62f5e0c852",
   "metadata": {},
   "outputs": [
    {
     "data": {
      "text/html": [
       "<div>\n",
       "<style scoped>\n",
       "    .dataframe tbody tr th:only-of-type {\n",
       "        vertical-align: middle;\n",
       "    }\n",
       "\n",
       "    .dataframe tbody tr th {\n",
       "        vertical-align: top;\n",
       "    }\n",
       "\n",
       "    .dataframe thead th {\n",
       "        text-align: right;\n",
       "    }\n",
       "</style>\n",
       "<table border=\"1\" class=\"dataframe\">\n",
       "  <thead>\n",
       "    <tr style=\"text-align: right;\">\n",
       "      <th></th>\n",
       "      <th>Pregnancies</th>\n",
       "      <th>Glucose</th>\n",
       "      <th>BloodPressure</th>\n",
       "      <th>SkinThickness</th>\n",
       "      <th>Insulin</th>\n",
       "      <th>BMI</th>\n",
       "      <th>DiabetesPedigreeFunction</th>\n",
       "      <th>Age</th>\n",
       "      <th>Outcome</th>\n",
       "    </tr>\n",
       "  </thead>\n",
       "  <tbody>\n",
       "    <tr>\n",
       "      <th>0</th>\n",
       "      <td>6</td>\n",
       "      <td>148</td>\n",
       "      <td>72</td>\n",
       "      <td>35</td>\n",
       "      <td>0</td>\n",
       "      <td>33.6</td>\n",
       "      <td>0.627</td>\n",
       "      <td>50</td>\n",
       "      <td>1</td>\n",
       "    </tr>\n",
       "    <tr>\n",
       "      <th>1</th>\n",
       "      <td>1</td>\n",
       "      <td>85</td>\n",
       "      <td>66</td>\n",
       "      <td>29</td>\n",
       "      <td>0</td>\n",
       "      <td>26.6</td>\n",
       "      <td>0.351</td>\n",
       "      <td>31</td>\n",
       "      <td>0</td>\n",
       "    </tr>\n",
       "    <tr>\n",
       "      <th>2</th>\n",
       "      <td>8</td>\n",
       "      <td>183</td>\n",
       "      <td>64</td>\n",
       "      <td>0</td>\n",
       "      <td>0</td>\n",
       "      <td>23.3</td>\n",
       "      <td>0.672</td>\n",
       "      <td>32</td>\n",
       "      <td>1</td>\n",
       "    </tr>\n",
       "    <tr>\n",
       "      <th>3</th>\n",
       "      <td>1</td>\n",
       "      <td>89</td>\n",
       "      <td>66</td>\n",
       "      <td>23</td>\n",
       "      <td>94</td>\n",
       "      <td>28.1</td>\n",
       "      <td>0.167</td>\n",
       "      <td>21</td>\n",
       "      <td>0</td>\n",
       "    </tr>\n",
       "    <tr>\n",
       "      <th>4</th>\n",
       "      <td>0</td>\n",
       "      <td>137</td>\n",
       "      <td>40</td>\n",
       "      <td>35</td>\n",
       "      <td>168</td>\n",
       "      <td>43.1</td>\n",
       "      <td>2.288</td>\n",
       "      <td>33</td>\n",
       "      <td>1</td>\n",
       "    </tr>\n",
       "  </tbody>\n",
       "</table>\n",
       "</div>"
      ],
      "text/plain": [
       "   Pregnancies  Glucose  BloodPressure  SkinThickness  Insulin   BMI  \\\n",
       "0            6      148             72             35        0  33.6   \n",
       "1            1       85             66             29        0  26.6   \n",
       "2            8      183             64              0        0  23.3   \n",
       "3            1       89             66             23       94  28.1   \n",
       "4            0      137             40             35      168  43.1   \n",
       "\n",
       "   DiabetesPedigreeFunction  Age  Outcome  \n",
       "0                     0.627   50        1  \n",
       "1                     0.351   31        0  \n",
       "2                     0.672   32        1  \n",
       "3                     0.167   21        0  \n",
       "4                     2.288   33        1  "
      ]
     },
     "execution_count": 5,
     "metadata": {},
     "output_type": "execute_result"
    }
   ],
   "source": [
    "df.head()"
   ]
  },
  {
   "cell_type": "code",
   "execution_count": 16,
   "id": "69260102-4360-4e8e-afd5-482dc2e4ec31",
   "metadata": {},
   "outputs": [],
   "source": [
    "y = df[\"Outcome\"] #bu bizim bagimli degiskenimiz.\n",
    "X = df.drop([\"Outcome\"],axis=1)\n",
    "X_train, X_test, y_train, y_test = train_test_split(X,\n",
    "                                                   y,\n",
    "                                                   test_size=0.30,\n",
    "                                                   random_state=42)\n",
    "\n",
    "scaler = StandardScaler()\n",
    "\n",
    "scaler.fit(X_train)\n",
    "X_train = scaler.transform(X_train)\n",
    "\n",
    "scaler.fit(X_test)\n",
    "X_train = scaler.transform(X_test)"
   ]
  },
  {
   "cell_type": "markdown",
   "id": "a6fb03a8-4d2f-4c22-a205-514c4b90dff5",
   "metadata": {},
   "source": [
    "### Model&Tahmin"
   ]
  },
  {
   "cell_type": "code",
   "execution_count": 22,
   "id": "603508b4-ddc8-4174-894a-1710fdc62937",
   "metadata": {},
   "outputs": [],
   "source": [
    "svm_model= SVC(kernel=\"linear\").fit(X_train,y_train)"
   ]
  },
  {
   "cell_type": "code",
   "execution_count": 23,
   "id": "82381ed5-631a-43c7-82ef-ade0c8cf81be",
   "metadata": {},
   "outputs": [
    {
     "data": {
      "text/plain": [
       "SVC(kernel='linear')"
      ]
     },
     "execution_count": 23,
     "metadata": {},
     "output_type": "execute_result"
    }
   ],
   "source": [
    "svm_model #kernel SVC ici bos oldugunda rbf on tanimli olarak verir, yani dogrusal olmayan anlamindadir."
   ]
  },
  {
   "cell_type": "code",
   "execution_count": 24,
   "id": "9afc5a80-d931-47a2-8473-0d4e146af9e6",
   "metadata": {},
   "outputs": [],
   "source": [
    "y_pred = svm_model.predict(X_test)"
   ]
  },
  {
   "cell_type": "code",
   "execution_count": 25,
   "id": "18a0632c-5006-4b2c-9b4f-d621c89b8dc9",
   "metadata": {},
   "outputs": [
    {
     "data": {
      "text/plain": [
       "0.7445887445887446"
      ]
     },
     "execution_count": 25,
     "metadata": {},
     "output_type": "execute_result"
    }
   ],
   "source": [
    "accuracy_score(y_test,y_pred)"
   ]
  },
  {
   "cell_type": "markdown",
   "id": "4957d7a8-df2a-42d7-9649-dc33783bf503",
   "metadata": {},
   "source": [
    "### Model Tuning"
   ]
  },
  {
   "cell_type": "code",
   "execution_count": 27,
   "id": "8a4e3898-2c9a-4ac5-96cf-d3eea0e7372d",
   "metadata": {},
   "outputs": [],
   "source": [
    "svm= SVC()"
   ]
  },
  {
   "cell_type": "code",
   "execution_count": 28,
   "id": "41c5cbc7-9d89-4df2-9b27-dec351488b95",
   "metadata": {},
   "outputs": [],
   "source": [
    "svm_params = {\"C\": np.arange(1,10),\n",
    "             \"kernel\": [\"linear\",\"rbf\"]}"
   ]
  },
  {
   "cell_type": "code",
   "execution_count": 29,
   "id": "7c72c0a8-fa09-42cb-83b4-bd44bced82a7",
   "metadata": {},
   "outputs": [
    {
     "name": "stdout",
     "output_type": "stream",
     "text": [
      "Fitting 5 folds for each of 18 candidates, totalling 90 fits\n"
     ]
    }
   ],
   "source": [
    "svm_cv_model = GridSearchCV(svm, svm_params, cv=5, n_jobs=-1, verbose=2).fit(X_train,y_train)"
   ]
  },
  {
   "cell_type": "code",
   "execution_count": 31,
   "id": "357c257d-1cf8-43fc-b6d2-c2889f7eb882",
   "metadata": {},
   "outputs": [
    {
     "data": {
      "text/plain": [
       "0.7839044652128765"
      ]
     },
     "execution_count": 31,
     "metadata": {},
     "output_type": "execute_result"
    }
   ],
   "source": [
    "svm_cv_model.best_score_"
   ]
  },
  {
   "cell_type": "code",
   "execution_count": 32,
   "id": "e53b3736-17bc-4ff1-a1ff-e6dd332c93c7",
   "metadata": {},
   "outputs": [
    {
     "data": {
      "text/plain": [
       "{'C': 2, 'kernel': 'linear'}"
      ]
     },
     "execution_count": 32,
     "metadata": {},
     "output_type": "execute_result"
    }
   ],
   "source": [
    "svm_cv_model.best_params_"
   ]
  },
  {
   "cell_type": "code",
   "execution_count": 33,
   "id": "d80957c3-edd9-430e-9c71-2b6668a9978d",
   "metadata": {},
   "outputs": [],
   "source": [
    "#final model"
   ]
  },
  {
   "cell_type": "code",
   "execution_count": 38,
   "id": "f60f369e-77c3-4136-a1ff-bda7073ccd45",
   "metadata": {},
   "outputs": [],
   "source": [
    "svm_tuned = SVC(C=2,kernel=\"linear\").fit(X_train, y_train)"
   ]
  },
  {
   "cell_type": "code",
   "execution_count": 39,
   "id": "ce1bdbbb-7e1c-4cee-af73-180a5dd51517",
   "metadata": {},
   "outputs": [],
   "source": [
    "y_pred = svm_tuned.predict(X_test)"
   ]
  },
  {
   "cell_type": "code",
   "execution_count": 40,
   "id": "1698d4b5-f9fe-470f-aba0-b10c95cc2447",
   "metadata": {},
   "outputs": [
    {
     "data": {
      "text/plain": [
       "0.7445887445887446"
      ]
     },
     "execution_count": 40,
     "metadata": {},
     "output_type": "execute_result"
    }
   ],
   "source": [
    "accuracy_score(y_test,y_pred)"
   ]
  },
  {
   "cell_type": "markdown",
   "id": "4593d5d9-1c55-4a9c-8652-9fcc1cd38da1",
   "metadata": {},
   "source": [
    "# Yapay Sinir Aglari(Cok Katmanli Algilayicilar)"
   ]
  },
  {
   "cell_type": "code",
   "execution_count": 145,
   "id": "73008530-b763-45c0-8325-7ad008c6928d",
   "metadata": {},
   "outputs": [
    {
     "data": {
      "text/html": [
       "<div>\n",
       "<style scoped>\n",
       "    .dataframe tbody tr th:only-of-type {\n",
       "        vertical-align: middle;\n",
       "    }\n",
       "\n",
       "    .dataframe tbody tr th {\n",
       "        vertical-align: top;\n",
       "    }\n",
       "\n",
       "    .dataframe thead th {\n",
       "        text-align: right;\n",
       "    }\n",
       "</style>\n",
       "<table border=\"1\" class=\"dataframe\">\n",
       "  <thead>\n",
       "    <tr style=\"text-align: right;\">\n",
       "      <th></th>\n",
       "      <th>Pregnancies</th>\n",
       "      <th>Glucose</th>\n",
       "      <th>BloodPressure</th>\n",
       "      <th>SkinThickness</th>\n",
       "      <th>Insulin</th>\n",
       "      <th>BMI</th>\n",
       "      <th>DiabetesPedigreeFunction</th>\n",
       "      <th>Age</th>\n",
       "      <th>Outcome</th>\n",
       "    </tr>\n",
       "  </thead>\n",
       "  <tbody>\n",
       "    <tr>\n",
       "      <th>0</th>\n",
       "      <td>6</td>\n",
       "      <td>148</td>\n",
       "      <td>72</td>\n",
       "      <td>35</td>\n",
       "      <td>0</td>\n",
       "      <td>33.6</td>\n",
       "      <td>0.627</td>\n",
       "      <td>50</td>\n",
       "      <td>1</td>\n",
       "    </tr>\n",
       "    <tr>\n",
       "      <th>1</th>\n",
       "      <td>1</td>\n",
       "      <td>85</td>\n",
       "      <td>66</td>\n",
       "      <td>29</td>\n",
       "      <td>0</td>\n",
       "      <td>26.6</td>\n",
       "      <td>0.351</td>\n",
       "      <td>31</td>\n",
       "      <td>0</td>\n",
       "    </tr>\n",
       "    <tr>\n",
       "      <th>2</th>\n",
       "      <td>8</td>\n",
       "      <td>183</td>\n",
       "      <td>64</td>\n",
       "      <td>0</td>\n",
       "      <td>0</td>\n",
       "      <td>23.3</td>\n",
       "      <td>0.672</td>\n",
       "      <td>32</td>\n",
       "      <td>1</td>\n",
       "    </tr>\n",
       "    <tr>\n",
       "      <th>3</th>\n",
       "      <td>1</td>\n",
       "      <td>89</td>\n",
       "      <td>66</td>\n",
       "      <td>23</td>\n",
       "      <td>94</td>\n",
       "      <td>28.1</td>\n",
       "      <td>0.167</td>\n",
       "      <td>21</td>\n",
       "      <td>0</td>\n",
       "    </tr>\n",
       "    <tr>\n",
       "      <th>4</th>\n",
       "      <td>0</td>\n",
       "      <td>137</td>\n",
       "      <td>40</td>\n",
       "      <td>35</td>\n",
       "      <td>168</td>\n",
       "      <td>43.1</td>\n",
       "      <td>2.288</td>\n",
       "      <td>33</td>\n",
       "      <td>1</td>\n",
       "    </tr>\n",
       "  </tbody>\n",
       "</table>\n",
       "</div>"
      ],
      "text/plain": [
       "   Pregnancies  Glucose  BloodPressure  SkinThickness  Insulin   BMI  \\\n",
       "0            6      148             72             35        0  33.6   \n",
       "1            1       85             66             29        0  26.6   \n",
       "2            8      183             64              0        0  23.3   \n",
       "3            1       89             66             23       94  28.1   \n",
       "4            0      137             40             35      168  43.1   \n",
       "\n",
       "   DiabetesPedigreeFunction  Age  Outcome  \n",
       "0                     0.627   50        1  \n",
       "1                     0.351   31        0  \n",
       "2                     0.672   32        1  \n",
       "3                     0.167   21        0  \n",
       "4                     2.288   33        1  "
      ]
     },
     "execution_count": 145,
     "metadata": {},
     "output_type": "execute_result"
    }
   ],
   "source": [
    "df.head()"
   ]
  },
  {
   "cell_type": "code",
   "execution_count": 158,
   "id": "bf6d43f9-25ed-4dc9-b470-993d261c1fb4",
   "metadata": {},
   "outputs": [],
   "source": [
    "X_train, X_test, y_train, y_test = train_test_split(X,\n",
    "                                                   y,\n",
    "                                                   test_size=0.30,\n",
    "                                                   random_state=42)\n"
   ]
  },
  {
   "cell_type": "markdown",
   "id": "3cfdcbc4-9853-468a-b4db-a5348ba6a5e4",
   "metadata": {},
   "source": [
    "### Model&Tahmin"
   ]
  },
  {
   "cell_type": "code",
   "execution_count": 159,
   "id": "b283552a-29a5-41e5-a0d1-1dce2476f3bf",
   "metadata": {},
   "outputs": [],
   "source": [
    "mlpc_model = MLPClassifier().fit(X_train, y_train)"
   ]
  },
  {
   "cell_type": "code",
   "execution_count": 148,
   "id": "2e821dd6-1685-4ff1-919b-8cc341cd55ae",
   "metadata": {
    "collapsed": true,
    "jupyter": {
     "outputs_hidden": true
    },
    "tags": []
   },
   "outputs": [
    {
     "data": {
      "text/plain": [
       "[array([[ 1.51604035e-01,  1.61145018e-01,  1.22499101e-01,\n",
       "         -2.31709735e-01, -1.82860328e-02,  7.04001155e-02,\n",
       "          1.54558477e-01, -1.45574808e-01, -2.42529078e-01,\n",
       "          8.85218795e-02,  5.38410167e-02,  1.37389531e-05,\n",
       "          3.35078380e-02, -1.05557218e-01, -4.38947336e-04,\n",
       "          1.13347019e-02,  4.26276090e-11,  1.17897934e-01,\n",
       "          5.93511131e-02, -1.38782965e-01,  4.46769924e-02,\n",
       "         -1.75222612e-01, -1.51260086e-02,  4.84908205e-02,\n",
       "          1.46929670e-01, -2.01501882e-01,  3.67461947e-03,\n",
       "          4.19555576e-02,  2.12918735e-01,  1.86105846e-01,\n",
       "         -7.88890526e-02,  2.00787004e-03, -2.25317905e-03,\n",
       "          1.17179765e-01,  1.18230254e-01,  1.91008827e-04,\n",
       "          9.02671721e-03,  4.07734262e-02, -3.15499566e-03,\n",
       "         -1.63202601e-01,  1.59821550e-01,  2.30345601e-02,\n",
       "          2.03533502e-02,  4.23311406e-01,  5.20153460e-02,\n",
       "         -8.68284666e-03,  1.99566213e-02, -1.93924793e-01,\n",
       "          1.45043980e-02, -3.90827172e-04,  4.92944216e-03,\n",
       "          1.98523143e-01, -1.69558137e-01, -1.03732641e-01,\n",
       "          2.02989566e-01, -1.61468231e-01,  1.01146877e-02,\n",
       "         -2.92391601e-02,  1.71438793e-01, -8.66784967e-02,\n",
       "          1.39251691e-01, -4.10805025e-01, -5.82366984e-02,\n",
       "         -7.40111866e-02,  2.04676370e-01, -2.57160069e-02,\n",
       "         -2.23401271e-02, -1.65826130e-01, -1.67165408e-01,\n",
       "          2.26183486e-01,  1.87347449e-01,  2.16758386e-01,\n",
       "         -2.08847433e-02,  1.13663855e-01,  2.66531915e-13,\n",
       "          6.07389483e-02, -1.74614020e-01, -2.26705262e-01,\n",
       "         -1.30707902e-01, -2.63504574e-03, -2.02516955e-01,\n",
       "         -3.02114284e-06,  2.37635989e-01,  3.24834860e-01,\n",
       "          1.61880839e-02, -4.32726210e-02,  1.25369629e-01,\n",
       "         -1.69832727e-02,  2.89115549e-02, -2.05345798e-01,\n",
       "          8.85933534e-02,  6.15130339e-02, -8.15889656e-02,\n",
       "          2.11657583e-01, -5.56983638e-02, -1.29294508e-01,\n",
       "         -1.83947845e-01,  4.82918699e-02,  1.52514446e-01,\n",
       "         -1.46470359e-01],\n",
       "        [-1.13470715e-01, -1.12711322e-01,  1.09549743e-01,\n",
       "          2.57426025e-02, -2.43997697e-02,  2.08023923e-01,\n",
       "          1.50896890e-01,  2.17993783e-02,  5.08225960e-02,\n",
       "         -2.03379920e-01,  2.17525401e-01,  1.26538362e-12,\n",
       "          1.25744931e-01,  1.46857405e-03, -1.67031654e-02,\n",
       "          1.72263367e-02,  4.46897391e-13, -7.67282369e-02,\n",
       "          1.17545521e-01,  2.19754974e-01,  3.34384763e-02,\n",
       "         -5.95636296e-03,  1.24558186e-01,  2.33397316e-01,\n",
       "          1.30714540e-01,  1.80537163e-01, -5.93934465e-03,\n",
       "         -8.09370639e-02, -1.19488894e-01,  2.45455194e-01,\n",
       "          1.85096759e-01, -8.53083908e-02, -1.95070510e-02,\n",
       "         -1.09620219e-02, -5.10139572e-02, -1.70309291e-03,\n",
       "          1.51830808e-02,  3.79172316e-02, -2.72311933e-05,\n",
       "         -1.99566753e-01,  1.53164532e-01, -9.56650308e-02,\n",
       "          8.47851750e-02, -2.96340443e-02,  1.60358197e-01,\n",
       "         -1.50408740e-01,  1.22294897e-01, -3.47911252e-02,\n",
       "         -8.78329722e-02, -9.57986202e-03,  2.97205508e-02,\n",
       "          1.51402907e-01,  1.90910813e-01, -5.58728417e-02,\n",
       "          1.74295447e-01, -1.82237375e-01,  1.37327696e-01,\n",
       "         -2.71981405e-02,  1.96534957e-01,  5.76501611e-02,\n",
       "          1.15410516e-01, -1.51474742e-01,  2.04239698e-01,\n",
       "          1.13344784e-01,  4.96865200e-02,  1.42451617e-01,\n",
       "          1.35559685e-01, -7.90867990e-02, -1.68973209e-01,\n",
       "          8.76501441e-02, -1.87642043e-01, -2.13802953e-01,\n",
       "         -1.75148855e-02, -4.08238256e-02, -7.07006729e-03,\n",
       "          1.81264615e-01, -1.85361179e-01,  2.35373652e-01,\n",
       "          1.63494305e-01, -7.59746113e-08,  2.16670495e-01,\n",
       "         -6.98078270e-10,  2.08830477e-01, -1.63692188e-01,\n",
       "         -2.05422145e-02,  4.33745233e-03,  3.07123307e-02,\n",
       "         -1.70115244e-02,  1.46076872e-02,  8.17510932e-03,\n",
       "          2.08192085e-01,  1.68759999e-01, -1.02567139e-01,\n",
       "         -9.05851811e-02,  2.57658903e-02,  1.65274553e-01,\n",
       "          2.16359894e-01,  9.21463979e-02, -1.02426171e-01,\n",
       "         -6.58334878e-02],\n",
       "        [-7.88560189e-03, -5.87776698e-03, -1.94909772e-01,\n",
       "          2.30434041e-01, -2.02228325e-02, -1.60540433e-01,\n",
       "          1.55195464e-01,  1.51136165e-01, -3.78253702e-02,\n",
       "          1.48218176e-01,  7.96871734e-02, -2.35282199e-04,\n",
       "          2.25128821e-01, -1.49774615e-01,  1.52572942e-11,\n",
       "         -2.16161306e-02, -1.53516933e-03, -6.96631730e-02,\n",
       "          5.66288160e-02,  1.45622038e-01, -8.26813894e-02,\n",
       "          1.54317683e-01, -1.82616159e-01, -1.96988018e-01,\n",
       "         -9.55690397e-02, -2.30598285e-02, -1.39974650e-04,\n",
       "          5.38266257e-02,  1.72116131e-01, -8.14791171e-02,\n",
       "          9.68215363e-02, -1.41030547e-01,  1.99126847e-03,\n",
       "         -4.45988262e-02,  1.88140393e-01, -1.66019837e-02,\n",
       "          1.26227059e-01, -2.21853897e-02, -3.97632267e-04,\n",
       "         -1.43205257e-01, -2.00163941e-01,  3.46082319e-02,\n",
       "         -1.87305246e-01, -1.45846329e-01, -2.45925220e-01,\n",
       "          9.30595394e-02, -5.72463309e-02,  1.14110786e-01,\n",
       "          6.78828894e-02,  3.81322199e-02, -7.30523304e-02,\n",
       "          1.45042799e-01,  1.82928897e-01, -4.54093374e-02,\n",
       "          5.14723113e-02, -2.26127240e-01,  1.91663855e-01,\n",
       "         -6.21919917e-02, -1.91982922e-01,  1.94866814e-01,\n",
       "          2.06312749e-01,  9.11630506e-02,  1.11783203e-01,\n",
       "         -3.48024739e-02,  2.11335919e-01,  8.16540471e-02,\n",
       "          1.94204357e-01,  2.02146690e-01,  1.70524057e-01,\n",
       "          2.75079285e-02,  4.05197565e-02,  2.16391597e-02,\n",
       "         -1.20583638e-02,  1.98342306e-01, -9.75976688e-13,\n",
       "          9.83765447e-02, -4.36728078e-02,  2.01940384e-02,\n",
       "         -5.74467193e-02, -1.26578643e-03, -9.51957729e-02,\n",
       "         -9.40047289e-04,  1.02653018e-01, -3.56321746e-02,\n",
       "          1.28492914e-01,  1.32632758e-01,  9.93655955e-02,\n",
       "         -2.79669267e-03,  4.19964695e-02, -2.09497877e-02,\n",
       "         -1.77011522e-01, -1.57409270e-02,  1.82574644e-01,\n",
       "          2.44770768e-01, -1.46450156e-02, -8.19898643e-02,\n",
       "         -1.31344506e-01, -1.56207862e-01,  2.29108401e-01,\n",
       "         -7.68405771e-03],\n",
       "        [ 1.28731872e-01, -1.73583361e-01,  3.45551954e-02,\n",
       "         -2.41774887e-01, -2.01859537e-03, -1.51007232e-01,\n",
       "         -8.22884082e-02, -1.07654113e-01, -1.86916570e-02,\n",
       "         -8.16515970e-02,  6.89777816e-03, -6.60205399e-03,\n",
       "          8.17137130e-02,  1.23648895e-01, -2.47901803e-06,\n",
       "         -1.60218391e-01, -2.25927133e-03, -4.66215205e-02,\n",
       "          1.87590056e-01,  2.14743487e-01,  8.72020023e-02,\n",
       "         -1.54373634e-02,  3.17057622e-02,  1.09182146e-01,\n",
       "         -1.94965491e-01, -1.88201284e-01,  6.39915794e-06,\n",
       "          1.02644126e-01,  1.12448176e-01, -2.16958201e-01,\n",
       "          1.74215402e-01,  2.11705985e-01,  7.51070720e-03,\n",
       "          1.18064693e-08, -1.68508250e-01,  1.42939912e-02,\n",
       "          1.58397489e-01,  1.60325107e-01, -7.95070002e-04,\n",
       "         -1.38787786e-01,  2.23042593e-01,  6.36164076e-02,\n",
       "         -2.33421884e-01, -1.97242655e-01, -1.58365621e-01,\n",
       "          5.92377515e-02, -8.19770457e-02,  1.07548334e-01,\n",
       "          4.87036725e-03, -2.67617505e-01,  1.50611269e-01,\n",
       "         -1.61827487e-01, -1.19000973e-01, -1.97084953e-05,\n",
       "          1.65455259e-01, -1.27169500e-02, -2.26220198e-01,\n",
       "          7.30838333e-02,  1.21545118e-01, -4.64656285e-03,\n",
       "          1.80565841e-01,  7.27804034e-02,  8.69898397e-02,\n",
       "          1.13740188e-01, -2.23248665e-01,  1.03137954e-01,\n",
       "          1.10068256e-01,  4.08066721e-02,  1.80308920e-01,\n",
       "         -7.57899758e-02, -9.97209080e-02,  3.44134282e-02,\n",
       "         -1.33957325e-02, -1.41421396e-01,  1.06980303e-06,\n",
       "         -1.15605559e-01, -1.96245913e-01,  1.74306841e-01,\n",
       "         -2.34977494e-02,  4.74105482e-03, -1.51752209e-01,\n",
       "          3.08430234e-04, -3.42877719e-02,  2.64950425e-01,\n",
       "          1.41312012e-01,  1.97402472e-01, -1.40541686e-01,\n",
       "         -1.80288254e-02,  2.21743059e-01,  2.09482467e-01,\n",
       "         -4.46329790e-02,  1.61249125e-01, -5.16585923e-02,\n",
       "          2.29281650e-01,  1.61923866e-01, -8.04703630e-02,\n",
       "          1.58581402e-01,  4.44980726e-02,  1.44983935e-01,\n",
       "         -2.05386442e-03],\n",
       "        [ 2.08618065e-01, -1.05299904e-06, -2.49855170e-01,\n",
       "         -2.72777162e-03, -7.38501138e-04,  7.18125252e-02,\n",
       "          1.22900521e-01, -9.43972161e-02, -1.73955631e-02,\n",
       "         -2.17669382e-01,  1.52711541e-02, -1.16656559e-03,\n",
       "          9.67381243e-02,  1.16040349e-02, -5.65116928e-03,\n",
       "          1.94004481e-01, -3.30860026e-05,  1.44222518e-01,\n",
       "         -2.96293934e-02, -1.72207535e-01, -3.56686344e-02,\n",
       "         -1.73751627e-01,  7.97198101e-02,  1.90382027e-01,\n",
       "         -1.46768952e-01,  2.03964266e-01, -3.90319914e-03,\n",
       "          1.29107543e-01,  5.45722368e-02,  1.36883262e-01,\n",
       "         -2.01020277e-02,  2.20023192e-01,  2.31823624e-04,\n",
       "         -2.91834113e-05, -1.29677459e-02, -9.89399852e-03,\n",
       "          1.06100686e-01, -5.35787793e-02, -4.17507377e-04,\n",
       "          1.60379773e-01,  1.24109405e-02,  2.27058399e-02,\n",
       "          7.24866040e-02,  2.79491937e-03,  1.51563247e-01,\n",
       "          8.52353635e-02,  1.25990430e-01, -7.28563387e-02,\n",
       "         -1.82029602e-01, -1.62630643e-01,  1.73327116e-02,\n",
       "          1.25472426e-01, -1.80568003e-01, -4.49854154e-11,\n",
       "         -1.79458502e-01,  1.72353235e-01, -2.02266858e-01,\n",
       "         -7.21065092e-08, -8.39675695e-02, -1.06238769e-01,\n",
       "          2.14139585e-01,  3.33038554e-02, -1.40362474e-01,\n",
       "         -3.03964235e-04,  4.04344945e-02,  1.50249743e-01,\n",
       "         -5.68898858e-02,  1.50702037e-01, -1.23268856e-01,\n",
       "          1.88533778e-01, -2.17724060e-02, -2.06182905e-01,\n",
       "         -7.08121355e-03, -4.13262721e-02, -1.39529890e-12,\n",
       "         -1.66159362e-01,  1.59482243e-01,  9.38757114e-02,\n",
       "         -1.35964690e-01, -4.19650089e-11,  1.74704001e-01,\n",
       "          3.17254984e-11, -1.05877789e-01, -1.98068770e-01,\n",
       "         -1.29632438e-01, -1.16429136e-01, -3.45146526e-02,\n",
       "         -1.36300937e-08,  2.02389769e-02, -1.50212958e-02,\n",
       "         -1.14068959e-01, -4.40913787e-02, -5.90131267e-02,\n",
       "         -2.03185890e-01, -9.25469122e-02, -2.06729130e-01,\n",
       "          2.76552013e-02, -3.27965727e-03, -1.15037717e-01,\n",
       "         -1.98140606e-06],\n",
       "        [ 1.60201659e-03, -9.92653784e-02,  2.17013740e-01,\n",
       "          3.33023595e-02, -3.71040166e-02, -8.18247784e-02,\n",
       "         -1.60786223e-01, -2.28249113e-01, -1.55496347e-01,\n",
       "          4.44585355e-03,  3.33618371e-02,  1.14968749e-09,\n",
       "          6.04409451e-02, -1.54977957e-01, -2.05919710e-04,\n",
       "         -1.47024809e-01,  8.82370926e-11, -1.73107745e-01,\n",
       "          2.06679095e-01, -9.62195687e-02, -1.88325643e-01,\n",
       "         -3.46658106e-02,  9.35133675e-02, -1.46600390e-01,\n",
       "         -1.76199315e-01,  6.28921979e-02, -6.24608088e-04,\n",
       "          2.50511271e-02,  1.10094105e-01,  7.32526468e-02,\n",
       "         -5.11444166e-02,  1.83499953e-01,  3.91475656e-03,\n",
       "         -1.16973734e-01, -1.30260218e-01, -1.60469324e-02,\n",
       "         -1.85727415e-01, -1.29358966e-02,  6.31263203e-05,\n",
       "          2.50952126e-01, -1.05838217e-01,  4.04581570e-02,\n",
       "          1.12734108e-01, -6.35103149e-02, -2.15524533e-01,\n",
       "          1.73338550e-01,  1.54068170e-01,  4.72109557e-02,\n",
       "         -2.12970991e-01, -8.92956805e-02, -1.85340961e-01,\n",
       "          6.60827748e-02, -9.42987349e-02, -4.61889575e-02,\n",
       "         -6.77784515e-02, -3.56781809e-02, -7.43345307e-02,\n",
       "          7.88392464e-03, -3.05648270e-03,  2.22059339e-01,\n",
       "         -2.01831227e-01, -4.06786737e-02,  9.42539093e-02,\n",
       "         -1.75070252e-01, -1.80024596e-02, -2.11166700e-01,\n",
       "         -1.19862214e-01, -2.32123492e-02,  1.48860248e-01,\n",
       "          1.02626856e-01,  2.04751217e-01,  1.14711580e-01,\n",
       "         -4.05760772e-02, -1.44565965e-01, -6.70892005e-03,\n",
       "          2.38781002e-01, -1.23885608e-01,  4.77790063e-02,\n",
       "         -5.26209889e-02, -4.20201660e-03,  1.77719387e-01,\n",
       "         -4.15640588e-03,  1.05188681e-01,  1.23612731e-01,\n",
       "         -2.19417210e-01,  2.19095262e-01, -1.76310886e-01,\n",
       "         -1.12460485e-02,  1.38602258e-01, -2.41184076e-01,\n",
       "          1.77249550e-01, -2.13094685e-02, -2.73350404e-02,\n",
       "         -6.04641499e-02,  1.56267663e-02,  1.62775076e-01,\n",
       "         -8.33820620e-03,  5.41349352e-02, -6.65521722e-02,\n",
       "         -1.40266424e-01],\n",
       "        [-5.81750471e-02,  1.80066362e-01, -8.53736844e-02,\n",
       "          1.55238847e-01,  1.05212846e-02, -2.25117096e-01,\n",
       "         -1.32192594e-01,  1.99220196e-01,  1.34673854e-02,\n",
       "         -2.37317948e-01,  1.27361283e-01, -7.68085017e-11,\n",
       "         -2.09239448e-01,  2.58585668e-01, -5.30752540e-05,\n",
       "          9.69340681e-02,  4.63678721e-04,  1.70686005e-01,\n",
       "          1.94366915e-01, -1.02602959e-01, -1.43005080e-01,\n",
       "          1.34052937e-01,  1.43590905e-01, -1.96725086e-01,\n",
       "          1.09285974e-03,  1.44409497e-01,  4.90690793e-10,\n",
       "         -9.20431745e-02,  1.68502666e-01,  1.82086417e-01,\n",
       "         -7.96384164e-02, -6.66841977e-02, -5.62998362e-03,\n",
       "         -1.93605089e-01,  2.89912512e-01, -4.79034448e-02,\n",
       "          1.02788362e-01,  5.94909138e-03,  5.30890604e-05,\n",
       "         -2.57377966e-02,  1.98384433e-02, -3.68133350e-02,\n",
       "         -1.89160289e-02,  1.88824595e-02, -1.24288488e-01,\n",
       "          1.10925798e-01, -1.48407095e-01, -2.70294356e-01,\n",
       "          8.30351986e-02, -1.00485105e-02,  1.51104127e-01,\n",
       "         -8.88730204e-02, -1.43851040e-01, -5.03615552e-02,\n",
       "         -2.20699430e-02, -2.31103713e-02, -1.12315775e-01,\n",
       "          6.10188309e-03,  7.67489444e-02,  2.69162161e-02,\n",
       "         -5.61682457e-02,  3.05005860e-02,  4.13587409e-02,\n",
       "         -6.62671221e-02,  1.03833882e-01, -1.75794278e-01,\n",
       "         -1.56916753e-01, -1.90783511e-01, -2.26823619e-01,\n",
       "          2.10778334e-01, -6.66521841e-04,  8.83532812e-02,\n",
       "         -1.63759853e-02,  3.86781820e-02, -6.91126050e-04,\n",
       "         -9.39245722e-02,  1.79906005e-02,  7.20931121e-02,\n",
       "         -1.58750385e-01, -3.61159997e-05,  1.06182193e-01,\n",
       "         -2.04515196e-03, -2.46044688e-01,  2.41157796e-01,\n",
       "          2.09191125e-01, -3.63863986e-02,  6.85059434e-02,\n",
       "         -6.62670001e-03, -4.38638405e-03,  7.54269139e-02,\n",
       "          3.56380160e-02,  1.64700803e-01,  1.03905586e-01,\n",
       "         -5.47516050e-02,  8.92665416e-03,  1.86940538e-02,\n",
       "         -6.92762102e-02,  3.28493880e-02, -7.58868119e-02,\n",
       "         -1.62759628e-01],\n",
       "        [ 1.26418141e-01,  1.84769303e-01,  1.05216032e-02,\n",
       "         -1.09935612e-02, -2.35739140e-02, -9.91926042e-02,\n",
       "         -1.42782860e-01,  1.77803485e-01, -2.00708302e-01,\n",
       "          1.27416373e-02, -8.62344321e-03, -5.32622659e-03,\n",
       "         -6.13769194e-02,  2.71545035e-01, -1.48826305e-02,\n",
       "         -8.58053543e-02, -6.06866411e-04,  1.91727779e-01,\n",
       "          9.93678835e-02,  1.01612266e-02, -1.38505688e-01,\n",
       "          6.04549544e-02, -1.99351731e-01, -1.24652499e-01,\n",
       "         -8.63572584e-02, -1.27592154e-01,  4.73655242e-08,\n",
       "         -2.44691360e-01,  1.81581042e-01,  1.23091639e-01,\n",
       "         -2.03762463e-01, -6.82702137e-03,  1.16310082e-03,\n",
       "          1.45168062e-03, -1.01968830e-02,  3.15216862e-03,\n",
       "          1.89886926e-01, -2.96201629e-01, -1.96453127e-03,\n",
       "          1.33581614e-01,  1.48709271e-01, -1.71607190e-01,\n",
       "         -7.06541697e-02,  2.82554361e-01, -3.68740456e-02,\n",
       "         -1.46302305e-01, -5.84312341e-02, -9.04100699e-02,\n",
       "          4.32075925e-02,  1.19275218e-01,  2.15642049e-01,\n",
       "         -1.47529672e-01,  1.86792654e-01,  9.06218949e-02,\n",
       "          1.08824918e-01, -3.18879376e-02, -1.17994057e-01,\n",
       "         -5.64754369e-02,  2.02263792e-01, -1.45772108e-01,\n",
       "          1.66133074e-01, -1.28294542e-01, -1.21786103e-01,\n",
       "         -1.98298753e-02,  4.96987934e-02, -2.00483230e-01,\n",
       "          9.85140456e-02,  1.16651361e-01, -2.42255519e-01,\n",
       "         -1.72121465e-02,  2.35944794e-01,  8.48275853e-02,\n",
       "         -7.43884894e-03,  6.58146742e-02, -2.20611117e-09,\n",
       "          4.79214897e-02,  2.11567244e-01, -1.31243408e-01,\n",
       "         -1.66908500e-01, -4.50471458e-05,  1.61288308e-01,\n",
       "         -3.00371433e-04,  1.49539784e-01,  1.61832636e-01,\n",
       "          1.69584345e-01, -2.07449538e-01, -2.12348703e-01,\n",
       "         -3.02196796e-02, -5.27531626e-02,  4.45317485e-02,\n",
       "          1.84766722e-01, -1.67476878e-01,  1.68358475e-01,\n",
       "          2.05666744e-01,  5.06791767e-02,  1.70092262e-01,\n",
       "         -1.99613652e-01, -8.87006369e-02,  6.61277973e-03,\n",
       "          8.99998300e-02]]),\n",
       " array([[ 9.72126905e-02],\n",
       "        [ 1.51530634e-01],\n",
       "        [ 4.30575750e-02],\n",
       "        [-3.47473703e-02],\n",
       "        [-5.65876729e-02],\n",
       "        [ 1.47861577e-03],\n",
       "        [-7.33926140e-02],\n",
       "        [-2.48058131e-01],\n",
       "        [ 9.98494018e-02],\n",
       "        [ 1.69019848e-01],\n",
       "        [-5.40884468e-02],\n",
       "        [ 2.19204290e-06],\n",
       "        [-1.28759157e-01],\n",
       "        [-3.04909516e-01],\n",
       "        [-1.04310551e-03],\n",
       "        [ 7.90539126e-02],\n",
       "        [-6.12133124e-04],\n",
       "        [ 2.42623549e-01],\n",
       "        [-2.14122485e-01],\n",
       "        [-3.79515209e-02],\n",
       "        [ 1.61923990e-01],\n",
       "        [ 9.28068336e-02],\n",
       "        [ 2.18907400e-01],\n",
       "        [ 3.54603225e-04],\n",
       "        [-5.07139060e-02],\n",
       "        [-1.42454702e-01],\n",
       "        [-1.20002109e-05],\n",
       "        [-1.95321738e-01],\n",
       "        [ 1.42157067e-01],\n",
       "        [-3.33187745e-02],\n",
       "        [-1.18085399e-01],\n",
       "        [ 3.42815518e-02],\n",
       "        [-2.66067648e-03],\n",
       "        [ 1.86240027e-01],\n",
       "        [-1.73486232e-01],\n",
       "        [ 3.13399217e-03],\n",
       "        [-2.88621199e-02],\n",
       "        [ 2.91336868e-01],\n",
       "        [-2.27350536e-09],\n",
       "        [ 9.18884966e-02],\n",
       "        [ 9.70043533e-02],\n",
       "        [-7.87533279e-02],\n",
       "        [ 1.81858186e-02],\n",
       "        [-5.31128798e-01],\n",
       "        [ 1.37767231e-01],\n",
       "        [ 1.09381147e-01],\n",
       "        [-2.02552620e-01],\n",
       "        [-2.55645217e-01],\n",
       "        [-1.77012024e-01],\n",
       "        [ 1.75483428e-01],\n",
       "        [ 6.22467407e-02],\n",
       "        [-4.99736355e-02],\n",
       "        [ 1.18044559e-01],\n",
       "        [ 9.81145894e-03],\n",
       "        [-2.41072661e-01],\n",
       "        [-1.89274289e-01],\n",
       "        [ 1.62813683e-01],\n",
       "        [-1.85866137e-02],\n",
       "        [-2.71494307e-02],\n",
       "        [ 1.89091776e-01],\n",
       "        [ 1.13457286e-01],\n",
       "        [-4.31133477e-01],\n",
       "        [ 2.11099221e-01],\n",
       "        [-1.99101559e-02],\n",
       "        [ 2.17418985e-01],\n",
       "        [-8.16273464e-02],\n",
       "        [ 1.54677529e-01],\n",
       "        [ 8.77018925e-03],\n",
       "        [-8.75918442e-02],\n",
       "        [ 2.54053817e-03],\n",
       "        [-2.21591645e-01],\n",
       "        [ 2.69390359e-01],\n",
       "        [ 8.62312798e-03],\n",
       "        [-1.04351927e-01],\n",
       "        [ 3.88520239e-06],\n",
       "        [ 7.33697119e-02],\n",
       "        [-1.53589504e-01],\n",
       "        [-2.68792715e-02],\n",
       "        [-1.81646262e-01],\n",
       "        [-4.55414791e-04],\n",
       "        [-5.19179410e-03],\n",
       "        [ 1.27291177e-03],\n",
       "        [-3.23375115e-02],\n",
       "        [ 2.85595737e-01],\n",
       "        [ 2.01789617e-01],\n",
       "        [-1.56504670e-01],\n",
       "        [ 1.32223028e-01],\n",
       "        [-1.68620295e-02],\n",
       "        [ 2.01842036e-01],\n",
       "        [-3.69033019e-01],\n",
       "        [ 7.75978342e-02],\n",
       "        [ 1.34015335e-01],\n",
       "        [-1.33420864e-01],\n",
       "        [-3.70160712e-02],\n",
       "        [-1.44872117e-01],\n",
       "        [-1.43883442e-02],\n",
       "        [ 1.94982390e-01],\n",
       "        [ 8.42775999e-02],\n",
       "        [-2.47152292e-01],\n",
       "        [ 1.90806513e-01]])]"
      ]
     },
     "execution_count": 148,
     "metadata": {},
     "output_type": "execute_result"
    }
   ],
   "source": [
    "mlpc_model.coefs_"
   ]
  },
  {
   "cell_type": "code",
   "execution_count": null,
   "id": "0317cc7e-bf8f-4707-9944-98c9eb0cf6fa",
   "metadata": {
    "collapsed": true,
    "jupyter": {
     "outputs_hidden": true
    },
    "tags": []
   },
   "outputs": [],
   "source": []
  },
  {
   "cell_type": "code",
   "execution_count": 149,
   "id": "0384aa9c-f1d1-4fbc-8587-508011aa5e89",
   "metadata": {},
   "outputs": [],
   "source": [
    "#regresyon icin relu fonksiyonu siniflandirma icin ise logistics fonksiyonunu kullaniriz."
   ]
  },
  {
   "cell_type": "code",
   "execution_count": 150,
   "id": "dce72b47-292c-494d-a4b9-8de25b5f7565",
   "metadata": {},
   "outputs": [],
   "source": [
    "y_pred = mlpc_model.predict(X_test)"
   ]
  },
  {
   "cell_type": "code",
   "execution_count": 151,
   "id": "4e957ce7-ed4a-4d10-8c80-a6567aae8254",
   "metadata": {},
   "outputs": [
    {
     "data": {
      "text/plain": [
       "0.7229437229437229"
      ]
     },
     "execution_count": 151,
     "metadata": {},
     "output_type": "execute_result"
    }
   ],
   "source": [
    "accuracy_score(y_test,y_pred)"
   ]
  },
  {
   "cell_type": "markdown",
   "id": "dc9cab5f-8d61-4671-9923-a28d1ad0c369",
   "metadata": {},
   "source": [
    "### Model Tuning"
   ]
  },
  {
   "cell_type": "code",
   "execution_count": 160,
   "id": "6d5407f8-a098-45d9-b391-dd75b24d66de",
   "metadata": {},
   "outputs": [],
   "source": [
    "mlpc_params = {\"alpha\": [1,5,0.1,0.01,0.03,0.005,0.0001],\n",
    "              \"hidden_layer_sizes\": [(10,10), (100,100,100),(100,100),(3,5)]}"
   ]
  },
  {
   "cell_type": "code",
   "execution_count": 170,
   "id": "68fb5559-e608-488d-b02c-b0252889b1f3",
   "metadata": {},
   "outputs": [],
   "source": [
    "mlpc = MLPClassifier(solver = 'lbfgs', activation=\"logistic\")"
   ]
  },
  {
   "cell_type": "code",
   "execution_count": 171,
   "id": "fbf56094-6bc4-4def-90df-efe045302462",
   "metadata": {},
   "outputs": [
    {
     "name": "stdout",
     "output_type": "stream",
     "text": [
      "Fitting 10 folds for each of 28 candidates, totalling 280 fits\n"
     ]
    },
    {
     "name": "stderr",
     "output_type": "stream",
     "text": [
      "C:\\Users\\burak\\anaconda3\\lib\\site-packages\\sklearn\\neural_network\\_multilayer_perceptron.py:500: ConvergenceWarning: lbfgs failed to converge (status=1):\n",
      "STOP: TOTAL NO. of ITERATIONS REACHED LIMIT.\n",
      "\n",
      "Increase the number of iterations (max_iter) or scale the data as shown in:\n",
      "    https://scikit-learn.org/stable/modules/preprocessing.html\n",
      "  self.n_iter_ = _check_optimize_result(\"lbfgs\", opt_res, self.max_iter)\n"
     ]
    }
   ],
   "source": [
    "mlpc_cv_model = GridSearchCV(mlpc, mlpc_params, cv =10, n_jobs=-1, verbose=2).fit(X_train,y_train)"
   ]
  },
  {
   "cell_type": "code",
   "execution_count": 172,
   "id": "fccb8c71-db88-4d32-97c7-6f89d8bd014b",
   "metadata": {},
   "outputs": [
    {
     "data": {
      "text/plain": [
       "GridSearchCV(cv=10,\n",
       "             estimator=MLPClassifier(activation='logistic', solver='lbfgs'),\n",
       "             n_jobs=-1,\n",
       "             param_grid={'alpha': [1, 5, 0.1, 0.01, 0.03, 0.005, 0.0001],\n",
       "                         'hidden_layer_sizes': [(10, 10), (100, 100, 100),\n",
       "                                                (100, 100), (3, 5)]},\n",
       "             verbose=2)"
      ]
     },
     "execution_count": 172,
     "metadata": {},
     "output_type": "execute_result"
    }
   ],
   "source": [
    "mlpc_cv_model"
   ]
  },
  {
   "cell_type": "code",
   "execution_count": 173,
   "id": "62fa10c2-5c80-475e-ab58-6677243c336d",
   "metadata": {},
   "outputs": [
    {
     "data": {
      "text/plain": [
       "{'alpha': 5, 'hidden_layer_sizes': (100, 100)}"
      ]
     },
     "execution_count": 173,
     "metadata": {},
     "output_type": "execute_result"
    }
   ],
   "source": [
    "mlpc_cv_model.best_params_"
   ]
  },
  {
   "cell_type": "code",
   "execution_count": 165,
   "id": "011c8fc5-8a6c-47c9-86e6-249e5c454219",
   "metadata": {},
   "outputs": [],
   "source": [
    "#final"
   ]
  },
  {
   "cell_type": "code",
   "execution_count": 174,
   "id": "6852e28a-2e07-4649-b920-ebb176ee9b27",
   "metadata": {
    "tags": []
   },
   "outputs": [
    {
     "name": "stderr",
     "output_type": "stream",
     "text": [
      "C:\\Users\\burak\\anaconda3\\lib\\site-packages\\sklearn\\neural_network\\_multilayer_perceptron.py:500: ConvergenceWarning: lbfgs failed to converge (status=1):\n",
      "STOP: TOTAL NO. of ITERATIONS REACHED LIMIT.\n",
      "\n",
      "Increase the number of iterations (max_iter) or scale the data as shown in:\n",
      "    https://scikit-learn.org/stable/modules/preprocessing.html\n",
      "  self.n_iter_ = _check_optimize_result(\"lbfgs\", opt_res, self.max_iter)\n"
     ]
    }
   ],
   "source": [
    "mlpc_tuned = MLPClassifier(solver=\"lbfgs\",activation='logistic', alpha=5,hidden_layer_sizes=(100,100)).fit(X_train,y_train)"
   ]
  },
  {
   "cell_type": "code",
   "execution_count": 175,
   "id": "d99556a4-c084-4538-9321-860792f7e272",
   "metadata": {},
   "outputs": [],
   "source": [
    "y_pred = mlpc_tuned.predict(X_test)"
   ]
  },
  {
   "cell_type": "code",
   "execution_count": 176,
   "id": "994b0bd5-bab9-4a2f-8bfe-374b10f18918",
   "metadata": {},
   "outputs": [
    {
     "data": {
      "text/plain": [
       "0.7142857142857143"
      ]
     },
     "execution_count": 176,
     "metadata": {},
     "output_type": "execute_result"
    }
   ],
   "source": [
    "accuracy_score(y_test,y_pred)"
   ]
  },
  {
   "cell_type": "markdown",
   "id": "fb23b9d1-27b7-4607-a1c0-d4fa65bc98ad",
   "metadata": {},
   "source": [
    "# CART(Classification and Regression Tree)"
   ]
  },
  {
   "cell_type": "code",
   "execution_count": 6,
   "id": "27d83ea0-8a17-4c5f-9c8b-f1fd68eff494",
   "metadata": {},
   "outputs": [],
   "source": [
    "X_train, X_test, y_train, y_test = train_test_split(X,\n",
    "                                                   y,\n",
    "                                                   test_size=0.30,\n",
    "                                                   random_state=42)"
   ]
  },
  {
   "cell_type": "markdown",
   "id": "98bd7826-dfbc-4659-bdfb-24b18f547c27",
   "metadata": {},
   "source": [
    "### Model&Tahmin"
   ]
  },
  {
   "cell_type": "code",
   "execution_count": 7,
   "id": "47fc9cea-37dc-4a1d-b995-f005d211f6f9",
   "metadata": {},
   "outputs": [],
   "source": [
    "cart_model = DecisionTreeClassifier().fit(X_train, y_train)"
   ]
  },
  {
   "cell_type": "code",
   "execution_count": 8,
   "id": "ffd861d2-3783-4b50-9402-3ff964462ef3",
   "metadata": {},
   "outputs": [
    {
     "data": {
      "text/plain": [
       "DecisionTreeClassifier()"
      ]
     },
     "execution_count": 8,
     "metadata": {},
     "output_type": "execute_result"
    }
   ],
   "source": [
    "cart_model"
   ]
  },
  {
   "cell_type": "code",
   "execution_count": 9,
   "id": "77e76712-11c9-4a50-bcb9-3c25aa7da0fa",
   "metadata": {},
   "outputs": [],
   "source": [
    "y_pred = cart_model.predict(X_test)"
   ]
  },
  {
   "cell_type": "code",
   "execution_count": 10,
   "id": "02bed933-c5a5-487d-a2fd-9a94befc69cf",
   "metadata": {},
   "outputs": [
    {
     "data": {
      "text/plain": [
       "0.70995670995671"
      ]
     },
     "execution_count": 10,
     "metadata": {},
     "output_type": "execute_result"
    }
   ],
   "source": [
    "accuracy_score(y_test,y_pred)"
   ]
  },
  {
   "cell_type": "markdown",
   "id": "85d9d255-cb82-4914-a0f8-2fb9ae729b6d",
   "metadata": {},
   "source": [
    "### Model Tuning"
   ]
  },
  {
   "cell_type": "code",
   "execution_count": 11,
   "id": "b8d54e49-30e1-4f68-a0d7-d5c64a292eb6",
   "metadata": {},
   "outputs": [],
   "source": [
    "cart = DecisionTreeClassifier()"
   ]
  },
  {
   "cell_type": "code",
   "execution_count": 14,
   "id": "d8bfc4fe-6efc-4f93-8fed-9295ac0be5cc",
   "metadata": {},
   "outputs": [],
   "source": [
    "cart_params = {\"max_depth\": [1,3,5,8,10],\n",
    "              \"min_samples_split\": [2,3,5,10,20,50]} #burada min deger 2 verilmeli, 1 verilirse hata alinir."
   ]
  },
  {
   "cell_type": "code",
   "execution_count": 15,
   "id": "892a29d6-13ea-44ba-9ea2-0cfff16dd0d4",
   "metadata": {},
   "outputs": [
    {
     "name": "stdout",
     "output_type": "stream",
     "text": [
      "Fitting 10 folds for each of 30 candidates, totalling 300 fits\n"
     ]
    }
   ],
   "source": [
    "cart_cv_model = GridSearchCV(cart, cart_params, cv=10, n_jobs=-1, verbose=2).fit(X_train,y_train)"
   ]
  },
  {
   "cell_type": "code",
   "execution_count": 16,
   "id": "ca587a97-7fcb-4efb-a24c-c0ec81b535e4",
   "metadata": {},
   "outputs": [
    {
     "data": {
      "text/plain": [
       "{'max_depth': 5, 'min_samples_split': 20}"
      ]
     },
     "execution_count": 16,
     "metadata": {},
     "output_type": "execute_result"
    }
   ],
   "source": [
    "cart_cv_model.best_params_"
   ]
  },
  {
   "cell_type": "code",
   "execution_count": 18,
   "id": "2a327f74-4a90-405d-84f1-d2183ea9ba40",
   "metadata": {},
   "outputs": [],
   "source": [
    "#final model"
   ]
  },
  {
   "cell_type": "code",
   "execution_count": 22,
   "id": "a63e78d3-8a2f-4947-9ef2-28a8858e89be",
   "metadata": {},
   "outputs": [],
   "source": [
    "cart_tuned = DecisionTreeClassifier(max_depth=5, min_samples_split=20).fit(X_train, y_train)"
   ]
  },
  {
   "cell_type": "raw",
   "id": "910c4b93-58f8-410c-aed3-4ef29edb0194",
   "metadata": {},
   "source": [
    "y_pred = cart_tuned.predict(X_test)"
   ]
  },
  {
   "cell_type": "code",
   "execution_count": 23,
   "id": "8a056a89-e880-43ae-b9e1-e1fac10a29ad",
   "metadata": {},
   "outputs": [
    {
     "data": {
      "text/plain": [
       "0.70995670995671"
      ]
     },
     "execution_count": 23,
     "metadata": {},
     "output_type": "execute_result"
    }
   ],
   "source": [
    "accuracy_score(y_test,y_pred)\n"
   ]
  },
  {
   "cell_type": "markdown",
   "id": "5499e543-53e2-4d29-90cc-7aab52dfbfb4",
   "metadata": {},
   "source": [
    "# Random Forest"
   ]
  },
  {
   "cell_type": "markdown",
   "id": "8ee77dc7-5dc9-48bb-ad90-4e914c020911",
   "metadata": {},
   "source": [
    "### Model&Tahmin"
   ]
  },
  {
   "cell_type": "code",
   "execution_count": 6,
   "id": "5fcdf20e-736d-4b0d-b4f5-647864a3e29d",
   "metadata": {},
   "outputs": [],
   "source": [
    "y = df[\"Outcome\"] #bu bizim bagimli degiskenimiz.\n",
    "X = df.drop([\"Outcome\"],axis=1)\n",
    "X_train, X_test, y_train, y_test = train_test_split(X,\n",
    "                                                   y,\n",
    "                                                   test_size=0.30,\n",
    "                                                   random_state=42)"
   ]
  },
  {
   "cell_type": "code",
   "execution_count": 7,
   "id": "4f7ce474-79ec-4ffe-91d0-f092a7128fc2",
   "metadata": {},
   "outputs": [],
   "source": [
    "rf_model = RandomForestClassifier().fit(X_train,y_train)"
   ]
  },
  {
   "cell_type": "code",
   "execution_count": 8,
   "id": "0a6f688e-d45e-484c-bfb5-52d0dda5e74a",
   "metadata": {},
   "outputs": [
    {
     "data": {
      "text/plain": [
       "RandomForestClassifier()"
      ]
     },
     "execution_count": 8,
     "metadata": {},
     "output_type": "execute_result"
    }
   ],
   "source": [
    "rf_model"
   ]
  },
  {
   "cell_type": "code",
   "execution_count": 9,
   "id": "525325aa-1665-4c22-98d6-26d584665153",
   "metadata": {},
   "outputs": [],
   "source": [
    "y_pred = rf_model.predict(X_test)"
   ]
  },
  {
   "cell_type": "code",
   "execution_count": 10,
   "id": "502a73d2-991d-42fc-ad63-5b12471dc89f",
   "metadata": {},
   "outputs": [
    {
     "data": {
      "text/plain": [
       "0.7402597402597403"
      ]
     },
     "execution_count": 10,
     "metadata": {},
     "output_type": "execute_result"
    }
   ],
   "source": [
    "accuracy_score(y_test,y_pred)"
   ]
  },
  {
   "cell_type": "markdown",
   "id": "dfd9bf95-d827-4555-85b7-b6d60523d41f",
   "metadata": {},
   "source": [
    "### Model Tuning"
   ]
  },
  {
   "cell_type": "code",
   "execution_count": 13,
   "id": "583eb41f-2d79-4668-aa4e-011ec8b1d8f5",
   "metadata": {},
   "outputs": [
    {
     "data": {
      "text/plain": [
       "(537, 8)"
      ]
     },
     "execution_count": 13,
     "metadata": {},
     "output_type": "execute_result"
    }
   ],
   "source": [
    "X_train.shape"
   ]
  },
  {
   "cell_type": "code",
   "execution_count": 11,
   "id": "4ebec280-9715-43d2-bfaa-1f43ad898bee",
   "metadata": {},
   "outputs": [],
   "source": [
    "rf = RandomForestClassifier()"
   ]
  },
  {
   "cell_type": "code",
   "execution_count": 14,
   "id": "82794012-d8c9-4355-ad37-6c9723d87ae9",
   "metadata": {},
   "outputs": [],
   "source": [
    "rf_params = {\"n_estimators\": [100,200,500,1000],\n",
    "            \"max_features\": [3,5,7,8],\n",
    "            \"min_samples_split\": [2,5,10,20]}"
   ]
  },
  {
   "cell_type": "code",
   "execution_count": 15,
   "id": "e4cd5ed0-096e-4905-8b8e-57231bf01696",
   "metadata": {},
   "outputs": [
    {
     "name": "stdout",
     "output_type": "stream",
     "text": [
      "Fitting 10 folds for each of 64 candidates, totalling 640 fits\n"
     ]
    }
   ],
   "source": [
    "rf_cv_model = GridSearchCV(rf, rf_params, cv=10, n_jobs=-1, verbose=2).fit(X_train,y_train)"
   ]
  },
  {
   "cell_type": "code",
   "execution_count": 16,
   "id": "31e2894b-dc49-43f7-a5a6-0bcddc1807c7",
   "metadata": {},
   "outputs": [
    {
     "data": {
      "text/plain": [
       "{'max_features': 3, 'min_samples_split': 2, 'n_estimators': 100}"
      ]
     },
     "execution_count": 16,
     "metadata": {},
     "output_type": "execute_result"
    }
   ],
   "source": [
    "rf_cv_model.best_params_"
   ]
  },
  {
   "cell_type": "code",
   "execution_count": 17,
   "id": "b04a921a-e3ea-47a4-bb6b-d197ce4f2f59",
   "metadata": {},
   "outputs": [],
   "source": [
    "#final model"
   ]
  },
  {
   "cell_type": "code",
   "execution_count": 18,
   "id": "0ce5de5c-5979-4155-8d9a-20fcdfd90ec2",
   "metadata": {},
   "outputs": [],
   "source": [
    "rf_tuned = RandomForestClassifier(max_features=3, min_samples_split=2, n_estimators=100).fit(X_train,y_train)"
   ]
  },
  {
   "cell_type": "code",
   "execution_count": 19,
   "id": "785ef9bc-f879-46fd-9962-0f43709161fb",
   "metadata": {},
   "outputs": [],
   "source": [
    "y_pred = rf_tuned.predict(X_test)"
   ]
  },
  {
   "cell_type": "code",
   "execution_count": 20,
   "id": "6717d50d-fa22-4a78-87de-e169bc9b53a6",
   "metadata": {},
   "outputs": [
    {
     "data": {
      "text/plain": [
       "0.7532467532467533"
      ]
     },
     "execution_count": 20,
     "metadata": {},
     "output_type": "execute_result"
    }
   ],
   "source": [
    "accuracy_score(y_test, y_pred)"
   ]
  },
  {
   "cell_type": "code",
   "execution_count": 21,
   "id": "9f7da5b0-779a-48bd-906e-052c21bfd1b8",
   "metadata": {},
   "outputs": [],
   "source": [
    "#degisken onem duzeyleri, degisken secimleri\n",
    "#su an bunlar orta seviye, ileri seviyenin giris kapisi degisken onem duzeyleridir."
   ]
  },
  {
   "cell_type": "code",
   "execution_count": 23,
   "id": "07132335-dc5b-4e8d-b968-a067dac972ed",
   "metadata": {},
   "outputs": [
    {
     "data": {
      "image/png": "[encoded data removed]",
      "text/plain": [
       "<Figure size 432x288 with 1 Axes>"
      ]
     },
     "metadata": {
      "needs_background": "light"
     },
     "output_type": "display_data"
    }
   ],
   "source": [
    "feature_imp = pd.Series(rf_tuned.feature_importances_,\n",
    "                       index=X_train.columns).sort_values(ascending=False)\n",
    "\n",
    "sns.barplot(x=feature_imp, y=feature_imp.index)\n",
    "plt.xlabel('Degisken Onem Skorlari')\n",
    "plt.ylabel('Degiskenler')\n",
    "plt.title('Degisken Onem Duzeyleri')\n",
    "plt.show()"
   ]
  },
  {
   "cell_type": "markdown",
   "id": "3a4c3208-1539-4c90-ba42-a4e497013aa0",
   "metadata": {},
   "source": [
    "# Gradient Boosting Machines"
   ]
  },
  {
   "cell_type": "markdown",
   "id": "d9d4551e-fbb0-410a-9deb-f93967d14a2c",
   "metadata": {},
   "source": [
    "### Model&Tahmin"
   ]
  },
  {
   "cell_type": "code",
   "execution_count": 6,
   "id": "a28ba551-5ae0-47cb-9d60-082b9bd90717",
   "metadata": {},
   "outputs": [],
   "source": [
    "gbm_model = GradientBoostingClassifier().fit(X_train,y_train)"
   ]
  },
  {
   "cell_type": "code",
   "execution_count": 7,
   "id": "8ef75882-2726-45a7-976f-aa31b00c4369",
   "metadata": {},
   "outputs": [
    {
     "data": {
      "text/plain": [
       "GradientBoostingClassifier()"
      ]
     },
     "execution_count": 7,
     "metadata": {},
     "output_type": "execute_result"
    }
   ],
   "source": [
    "gbm_model"
   ]
  },
  {
   "cell_type": "code",
   "execution_count": 8,
   "id": "ef13392b-578d-4de5-88ca-2f22cdacfd26",
   "metadata": {},
   "outputs": [],
   "source": [
    "y_pred = gbm_model.predict(X_test)"
   ]
  },
  {
   "cell_type": "code",
   "execution_count": 9,
   "id": "963511ea-a7cf-41e5-83ef-beb8626d78ef",
   "metadata": {},
   "outputs": [
    {
     "data": {
      "text/plain": [
       "0.7532467532467533"
      ]
     },
     "execution_count": 9,
     "metadata": {},
     "output_type": "execute_result"
    }
   ],
   "source": [
    "accuracy_score(y_test,y_pred)"
   ]
  },
  {
   "cell_type": "markdown",
   "id": "89fecfa7-a426-49cc-9cec-78228cd61777",
   "metadata": {},
   "source": [
    "### Model Tuning"
   ]
  },
  {
   "cell_type": "code",
   "execution_count": 10,
   "id": "630bdfdd-6026-4381-9f92-8b8817dde944",
   "metadata": {},
   "outputs": [],
   "source": [
    "gbm=GradientBoostingClassifier()"
   ]
  },
  {
   "cell_type": "code",
   "execution_count": 11,
   "id": "ffd054ee-6db0-4864-92e8-af92ab87c773",
   "metadata": {},
   "outputs": [],
   "source": [
    "gbm_params = {\"learning_rate\": [0.1,0.01,0.001,0.05],\n",
    "             \"n_estimators\": [100,300, 500, 1000],\n",
    "             \"max_depth\":[2,3,5,8]}"
   ]
  },
  {
   "cell_type": "code",
   "execution_count": 12,
   "id": "03ea4980-f80e-413b-baa3-225b1d93dd9e",
   "metadata": {},
   "outputs": [
    {
     "name": "stdout",
     "output_type": "stream",
     "text": [
      "Fitting 10 folds for each of 64 candidates, totalling 640 fits\n"
     ]
    }
   ],
   "source": [
    "gbm_cv_model = GridSearchCV(gbm,gbm_params,cv=10, n_jobs=-1,verbose=2).fit(X_train,y_train)"
   ]
  },
  {
   "cell_type": "code",
   "execution_count": 13,
   "id": "fb696d96-3566-46ea-9096-55170fc524d3",
   "metadata": {},
   "outputs": [
    {
     "data": {
      "text/plain": [
       "{'learning_rate': 0.01, 'max_depth': 5, 'n_estimators': 300}"
      ]
     },
     "execution_count": 13,
     "metadata": {},
     "output_type": "execute_result"
    }
   ],
   "source": [
    "gbm_cv_model.best_params_"
   ]
  },
  {
   "cell_type": "code",
   "execution_count": 14,
   "id": "cb8415c3-fab9-4d9f-b844-fb0eb9f0e7c9",
   "metadata": {},
   "outputs": [],
   "source": [
    "#final model"
   ]
  },
  {
   "cell_type": "code",
   "execution_count": 15,
   "id": "634a7192-29c3-4410-9235-8fa9dee5ecc8",
   "metadata": {},
   "outputs": [],
   "source": [
    "gbm_tuned = GradientBoostingClassifier(learning_rate=0.01, max_depth=5, n_estimators=300).fit(X_train,y_train)"
   ]
  },
  {
   "cell_type": "code",
   "execution_count": 16,
   "id": "74bcb492-69b1-40d4-a7e0-27889fe67255",
   "metadata": {},
   "outputs": [
    {
     "data": {
      "text/plain": [
       "0.7489177489177489"
      ]
     },
     "execution_count": 16,
     "metadata": {},
     "output_type": "execute_result"
    }
   ],
   "source": [
    "y_pred = gbm_tuned.predict(X_test)\n",
    "accuracy_score(y_test,y_pred)"
   ]
  },
  {
   "cell_type": "code",
   "execution_count": 17,
   "id": "0570485d-ae98-42d3-a3aa-58fecf7e33ea",
   "metadata": {},
   "outputs": [
    {
     "data": {
      "image/png": "[encoded data removed]",
      "text/plain": [
       "<Figure size 432x288 with 1 Axes>"
      ]
     },
     "metadata": {
      "needs_background": "light"
     },
     "output_type": "display_data"
    }
   ],
   "source": [
    "feature_imp = pd.Series(gbm_tuned.feature_importances_,\n",
    "                       index=X_train.columns).sort_values(ascending=False)\n",
    "\n",
    "sns.barplot(x=feature_imp, y=feature_imp.index)\n",
    "plt.xlabel('Degisken Onem Skorlari')\n",
    "plt.ylabel('Degiskenler')\n",
    "plt.title('Degisken Onem Duzeyleri')\n",
    "plt.show()"
   ]
  },
  {
   "cell_type": "markdown",
   "id": "b439f3c5-631f-4594-baaa-c661b2c39b14",
   "metadata": {},
   "source": [
    "# XGBoost"
   ]
  },
  {
   "cell_type": "markdown",
   "id": "9b1974c4-9f7c-4586-9124-5cfae45ae287",
   "metadata": {},
   "source": [
    "### Model&Tahmin"
   ]
  },
  {
   "cell_type": "code",
   "execution_count": 5,
   "id": "c3581a93-d502-4f31-9590-f0115b671c7d",
   "metadata": {},
   "outputs": [
    {
     "name": "stdout",
     "output_type": "stream",
     "text": [
      "Requirement already satisfied: xgboost in c:\\users\\burak\\anaconda3\\lib\\site-packages (1.5.2)\n",
      "Requirement already satisfied: scipy in c:\\users\\burak\\anaconda3\\lib\\site-packages (from xgboost) (1.6.2)\n",
      "Requirement already satisfied: numpy in c:\\users\\burak\\anaconda3\\lib\\site-packages (from xgboost) (1.20.1)\n"
     ]
    }
   ],
   "source": [
    "!pip install xgboost"
   ]
  },
  {
   "cell_type": "code",
   "execution_count": 6,
   "id": "f27a4510-6ff1-45c8-b9d1-52043c595df3",
   "metadata": {},
   "outputs": [],
   "source": [
    "from xgboost import XGBClassifier"
   ]
  },
  {
   "cell_type": "code",
   "execution_count": 7,
   "id": "51c378d1-0ac2-40d9-a52e-771e4f9362a1",
   "metadata": {},
   "outputs": [
    {
     "name": "stdout",
     "output_type": "stream",
     "text": [
      "[17:53:21] WARNING: C:/Users/Administrator/workspace/xgboost-win64_release_1.5.1/src/learner.cc:1115: Starting in XGBoost 1.3.0, the default evaluation metric used with the objective 'binary:logistic' was changed from 'error' to 'logloss'. Explicitly set eval_metric if you'd like to restore the old behavior.\n"
     ]
    },
    {
     "name": "stderr",
     "output_type": "stream",
     "text": [
      "C:\\Users\\burak\\anaconda3\\lib\\site-packages\\xgboost\\sklearn.py:1224: UserWarning: The use of label encoder in XGBClassifier is deprecated and will be removed in a future release. To remove this warning, do the following: 1) Pass option use_label_encoder=False when constructing XGBClassifier object; and 2) Encode your labels (y) as integers starting with 0, i.e. 0, 1, 2, ..., [num_class - 1].\n",
      "  warnings.warn(label_encoder_deprecation_msg, UserWarning)\n"
     ]
    }
   ],
   "source": [
    "xgb_model = XGBClassifier().fit(X_train,y_train)"
   ]
  },
  {
   "cell_type": "code",
   "execution_count": 8,
   "id": "dde8e9a8-189c-4589-a841-b5265297d9e0",
   "metadata": {},
   "outputs": [],
   "source": [
    "y_pred = xgb_model.predict(X_test)"
   ]
  },
  {
   "cell_type": "code",
   "execution_count": 9,
   "id": "54ae43fc-80aa-4b52-ab29-9ed1b0618a76",
   "metadata": {},
   "outputs": [
    {
     "data": {
      "text/plain": [
       "0.7359307359307359"
      ]
     },
     "execution_count": 9,
     "metadata": {},
     "output_type": "execute_result"
    }
   ],
   "source": [
    "accuracy_score(y_test,y_pred)"
   ]
  },
  {
   "cell_type": "markdown",
   "id": "27fa0b15-77bc-4bdf-bd4b-e0b65524facf",
   "metadata": {},
   "source": [
    "### Model Tuning"
   ]
  },
  {
   "cell_type": "code",
   "execution_count": 10,
   "id": "683b4d5a-5147-42c6-99fa-fca25f87916e",
   "metadata": {},
   "outputs": [],
   "source": [
    "xgb=XGBClassifier()"
   ]
  },
  {
   "cell_type": "code",
   "execution_count": 11,
   "id": "e9dd7eb1-45a9-4ef8-a184-c3ca7a5f7ed5",
   "metadata": {},
   "outputs": [],
   "source": [
    "xgb_params = {\"n_estimators\": [100,500,1000],\n",
    "             \"subsample\": [0.6,0.8,1],\n",
    "             \"max_depth\": [3,5,7],\n",
    "             \"learning_rate\": [0.1,0.001,0.01]}"
   ]
  },
  {
   "cell_type": "code",
   "execution_count": 12,
   "id": "aa67da94-546b-4d7c-810c-f3bca0017f2b",
   "metadata": {},
   "outputs": [
    {
     "name": "stdout",
     "output_type": "stream",
     "text": [
      "Fitting 10 folds for each of 81 candidates, totalling 810 fits\n"
     ]
    },
    {
     "name": "stderr",
     "output_type": "stream",
     "text": [
      "C:\\Users\\burak\\anaconda3\\lib\\site-packages\\xgboost\\sklearn.py:1224: UserWarning: The use of label encoder in XGBClassifier is deprecated and will be removed in a future release. To remove this warning, do the following: 1) Pass option use_label_encoder=False when constructing XGBClassifier object; and 2) Encode your labels (y) as integers starting with 0, i.e. 0, 1, 2, ..., [num_class - 1].\n",
      "  warnings.warn(label_encoder_deprecation_msg, UserWarning)\n"
     ]
    },
    {
     "name": "stdout",
     "output_type": "stream",
     "text": [
      "[18:05:08] WARNING: C:/Users/Administrator/workspace/xgboost-win64_release_1.5.1/src/learner.cc:1115: Starting in XGBoost 1.3.0, the default evaluation metric used with the objective 'binary:logistic' was changed from 'error' to 'logloss'. Explicitly set eval_metric if you'd like to restore the old behavior.\n"
     ]
    }
   ],
   "source": [
    "xgb_cv_model = GridSearchCV(xgb, xgb_params, cv=10, n_jobs=-1, verbose=2).fit(X_train,y_train)"
   ]
  },
  {
   "cell_type": "code",
   "execution_count": 16,
   "id": "e87d9e99-e22b-4578-805b-ce403a00feaa",
   "metadata": {},
   "outputs": [
    {
     "data": {
      "text/plain": [
       "{'learning_rate': 0.001, 'max_depth': 7, 'n_estimators': 500, 'subsample': 0.6}"
      ]
     },
     "execution_count": 16,
     "metadata": {},
     "output_type": "execute_result"
    }
   ],
   "source": [
    "xgb_cv_model.best_params_"
   ]
  },
  {
   "cell_type": "code",
   "execution_count": 17,
   "id": "7deaee49-070c-4f9d-b5b2-336927abe38d",
   "metadata": {},
   "outputs": [
    {
     "name": "stderr",
     "output_type": "stream",
     "text": [
      "C:\\Users\\burak\\anaconda3\\lib\\site-packages\\xgboost\\sklearn.py:1224: UserWarning: The use of label encoder in XGBClassifier is deprecated and will be removed in a future release. To remove this warning, do the following: 1) Pass option use_label_encoder=False when constructing XGBClassifier object; and 2) Encode your labels (y) as integers starting with 0, i.e. 0, 1, 2, ..., [num_class - 1].\n",
      "  warnings.warn(label_encoder_deprecation_msg, UserWarning)\n"
     ]
    },
    {
     "name": "stdout",
     "output_type": "stream",
     "text": [
      "[18:05:51] WARNING: C:/Users/Administrator/workspace/xgboost-win64_release_1.5.1/src/learner.cc:1115: Starting in XGBoost 1.3.0, the default evaluation metric used with the objective 'binary:logistic' was changed from 'error' to 'logloss'. Explicitly set eval_metric if you'd like to restore the old behavior.\n"
     ]
    }
   ],
   "source": [
    "xgb_tuned = xgb = XGBClassifier(learning_rate=0.001,\n",
    "                               max_depth=7,\n",
    "                               n_estimators=500,\n",
    "                               subsample=0.6).fit(X_train,y_train)"
   ]
  },
  {
   "cell_type": "code",
   "execution_count": 18,
   "id": "118cd87e-82bb-4520-83cb-b47cdc546021",
   "metadata": {},
   "outputs": [],
   "source": [
    "y_pred = xgb_tuned.predict(X_test)"
   ]
  },
  {
   "cell_type": "code",
   "execution_count": 19,
   "id": "7435c40c-44b0-4149-8d4a-63e5e6afe9b2",
   "metadata": {},
   "outputs": [
    {
     "data": {
      "text/plain": [
       "0.7575757575757576"
      ]
     },
     "execution_count": 19,
     "metadata": {},
     "output_type": "execute_result"
    }
   ],
   "source": [
    "accuracy_score(y_test,y_pred)"
   ]
  },
  {
   "cell_type": "code",
   "execution_count": 20,
   "id": "87a4751b-68a2-47c2-b2e2-50156407b8b3",
   "metadata": {},
   "outputs": [
    {
     "data": {
      "image/png": "[encoded data removed]",
      "text/plain": [
       "<Figure size 432x288 with 1 Axes>"
      ]
     },
     "metadata": {
      "needs_background": "light"
     },
     "output_type": "display_data"
    }
   ],
   "source": [
    "feature_imp = pd.Series(xgb_tuned.feature_importances_,\n",
    "                       index=X_train.columns).sort_values(ascending=False)\n",
    "\n",
    "sns.barplot(x=feature_imp, y=feature_imp.index)\n",
    "plt.xlabel('Degisken Onem Skorlari')\n",
    "plt.ylabel('Degiskenler')\n",
    "plt.title('Degisken Onem Duzeyleri')\n",
    "plt.show()"
   ]
  },
  {
   "cell_type": "code",
   "execution_count": null,
   "id": "7bc75eb5-a842-43e2-8c09-47b15d017761",
   "metadata": {},
   "outputs": [],
   "source": []
  }
 ],
 "metadata": {
  "kernelspec": {
   "display_name": "Python 3",
   "language": "python",
   "name": "python3"
  },
  "language_info": {
   "codemirror_mode": {
    "name": "ipython",
    "version": 3
   },
   "file_extension": ".py",
   "mimetype": "text/x-python",
   "name": "python",
   "nbconvert_exporter": "python",
   "pygments_lexer": "ipython3",
   "version": "3.8.8"
  }
 },
 "nbformat": 4,
 "nbformat_minor": 5
}
